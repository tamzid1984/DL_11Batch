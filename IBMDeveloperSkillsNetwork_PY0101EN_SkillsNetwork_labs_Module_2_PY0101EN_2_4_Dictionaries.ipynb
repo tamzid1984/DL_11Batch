{
  "metadata": {
    "kernelspec": {
      "name": "python",
      "display_name": "Pyolite",
      "language": "python"
    },
    "language_info": {
      "codemirror_mode": {
        "name": "python",
        "version": 3
      },
      "file_extension": ".py",
      "mimetype": "text/x-python",
      "name": "python",
      "nbconvert_exporter": "python",
      "pygments_lexer": "ipython3",
      "version": "3.8"
    },
    "colab": {
      "provenance": [],
      "include_colab_link": true
    }
  },
  "nbformat_minor": 0,
  "nbformat": 4,
  "cells": [
    {
      "cell_type": "markdown",
      "metadata": {
        "id": "view-in-github",
        "colab_type": "text"
      },
      "source": [
        "<a href=\"https://colab.research.google.com/github/tamzid1984/DL_11Batch/blob/main/IBMDeveloperSkillsNetwork_PY0101EN_SkillsNetwork_labs_Module_2_PY0101EN_2_4_Dictionaries.ipynb\" target=\"_parent\"><img src=\"https://colab.research.google.com/assets/colab-badge.svg\" alt=\"Open In Colab\"/></a>"
      ]
    },
    {
      "cell_type": "markdown",
      "source": [
        "<p style=\"text-align:center\">\n",
        "    <a href=\"https://skills.network/?utm_medium=Exinfluencer&utm_source=Exinfluencer&utm_content=000026UJ&utm_term=10006555&utm_id=NA-SkillsNetwork-Channel-SkillsNetworkCoursesIBMDeveloperSkillsNetworkPY0101ENSkillsNetwork1005-2022-01-01\" target=\"_blank\">\n",
        "    <img src=\"https://cf-courses-data.s3.us.cloud-object-storage.appdomain.cloud/assets/logos/SN_web_lightmode.png\" width=\"200\" alt=\"Skills Network Logo\"  />\n",
        "    </a>\n",
        "</p>\n",
        "\n",
        "\n",
        "# Dictionaries in Python\n",
        "\n",
        "\n",
        "Estimated time needed: **25** minutes\n",
        "    \n",
        "\n",
        "## Objectives\n",
        "\n",
        "After completing this lab you will be able to:\n",
        "\n",
        "* Work with and perform operations on dictionaries in Python\n"
      ],
      "metadata": {
        "id": "hfvuWBq5IdCu"
      }
    },
    {
      "cell_type": "markdown",
      "source": [
        "<h2>Table of Contents</h2>\n",
        "<div class=\"alert alert-block alert-info\" style=\"margin-top: 20px\">\n",
        "    <ul>\n",
        "        <li>\n",
        "            <a href=\"#dic\">Dictionaries</a>\n",
        "            <ul>\n",
        "                <li><a href=\"content\">What are Dictionaries?</a></li>\n",
        "                <li><a href=\"key\">Keys</a></li>\n",
        "            </ul>\n",
        "        </li>\n",
        "        <li>\n",
        "            <a href=\"#quiz\">Quiz on Dictionaries</a>\n",
        "        </li>\n",
        "    </ul>\n",
        "\n",
        "</div>\n",
        "\n",
        "<hr>\n"
      ],
      "metadata": {
        "id": "s2X4uyWvIdCy"
      }
    },
    {
      "cell_type": "markdown",
      "source": [
        "<h2 id=\"Dic\">Dictionaries</h2>\n"
      ],
      "metadata": {
        "id": "z86NmcusIdCz"
      }
    },
    {
      "cell_type": "markdown",
      "source": [
        "<h3 id=\"content\">What are Dictionaries?</h3>\n"
      ],
      "metadata": {
        "id": "VxAch_liIdCz"
      }
    },
    {
      "cell_type": "markdown",
      "source": [
        "A dictionary consists of keys and values. It is helpful to compare a dictionary to a list. Instead of being indexed numerically like a list, dictionaries have keys. These keys are the keys that are used to access values within a dictionary.\n"
      ],
      "metadata": {
        "id": "wzrVduDwIdC0"
      }
    },
    {
      "cell_type": "markdown",
      "source": [
        "<img src=\"https://cf-courses-data.s3.us.cloud-object-storage.appdomain.cloud/IBMDeveloperSkillsNetwork-PY0101EN-SkillsNetwork/labs/Module%202/images/DictsList.png\" width=\"650\">\n"
      ],
      "metadata": {
        "id": "QN1mvkY_IdC0"
      }
    },
    {
      "cell_type": "markdown",
      "source": [
        "An example of a Dictionary <code>Dict</code>:\n"
      ],
      "metadata": {
        "id": "De8YpqmMIdC1"
      }
    },
    {
      "cell_type": "code",
      "source": [
        "# Create the dictionary\n",
        "\n",
        "Dict = {\"key1\": 1, \"key2\": \"2\", \"key3\": [3, 3, 3], \"key4\": (4, 4, 4), ('key5'): 5, (0, 1): 6}\n",
        "Dict"
      ],
      "metadata": {
        "jupyter": {
          "outputs_hidden": false
        },
        "id": "-VWA7iVIIdC1",
        "outputId": "144687dc-1024-41dc-a9da-1308dfd38f99",
        "colab": {
          "base_uri": "https://localhost:8080/"
        }
      },
      "execution_count": 1,
      "outputs": [
        {
          "output_type": "execute_result",
          "data": {
            "text/plain": [
              "{'key1': 1,\n",
              " 'key2': '2',\n",
              " 'key3': [3, 3, 3],\n",
              " 'key4': (4, 4, 4),\n",
              " 'key5': 5,\n",
              " (0, 1): 6}"
            ]
          },
          "metadata": {},
          "execution_count": 1
        }
      ]
    },
    {
      "cell_type": "markdown",
      "source": [
        "The keys can be strings:\n"
      ],
      "metadata": {
        "id": "Kc_kAP9hIdC2"
      }
    },
    {
      "cell_type": "code",
      "source": [
        "# Access to the value by the key\n",
        "\n",
        "Dict[\"key1\"]"
      ],
      "metadata": {
        "jupyter": {
          "outputs_hidden": false
        },
        "id": "XlV09eJZIdC3",
        "outputId": "9cf801d4-bf58-4d43-f478-ed435b25c5b5",
        "colab": {
          "base_uri": "https://localhost:8080/"
        }
      },
      "execution_count": 2,
      "outputs": [
        {
          "output_type": "execute_result",
          "data": {
            "text/plain": [
              "1"
            ]
          },
          "metadata": {},
          "execution_count": 2
        }
      ]
    },
    {
      "cell_type": "markdown",
      "source": [
        "Keys can also be any immutable object such as a tuple: \n"
      ],
      "metadata": {
        "id": "9dF2e2SCIdC3"
      }
    },
    {
      "cell_type": "code",
      "source": [
        "# Access to the value by the key\n",
        "\n",
        "Dict[(0, 1)]"
      ],
      "metadata": {
        "jupyter": {
          "outputs_hidden": false
        },
        "id": "Vh4aka4gIdC4",
        "outputId": "c8748a8e-697b-4ae3-ca1f-2817651eb5c9",
        "colab": {
          "base_uri": "https://localhost:8080/"
        }
      },
      "execution_count": 3,
      "outputs": [
        {
          "output_type": "execute_result",
          "data": {
            "text/plain": [
              "6"
            ]
          },
          "metadata": {},
          "execution_count": 3
        }
      ]
    },
    {
      "cell_type": "markdown",
      "source": [
        " Each key is separated from its value by a colon \"<code>:</code>\".  Commas separate the items, and the whole dictionary is enclosed in curly braces. An empty dictionary without any items is written with just two curly braces, like this  \"<code>{}</code>\".\n"
      ],
      "metadata": {
        "id": "nW6l6QYOIdC4"
      }
    },
    {
      "cell_type": "code",
      "source": [
        "# Create a sample dictionary\n",
        "\n",
        "release_year_dict = {\"Thriller\": \"1982\", \"Back in Black\": \"1980\", \\\n",
        "                    \"The Dark Side of the Moon\": \"1973\", \"The Bodyguard\": \"1992\", \\\n",
        "                    \"Bat Out of Hell\": \"1977\", \"Their Greatest Hits (1971-1975)\": \"1976\", \\\n",
        "                    \"Saturday Night Fever\": \"1977\", \"Rumours\": \"1977\"}\n",
        "release_year_dict"
      ],
      "metadata": {
        "jupyter": {
          "outputs_hidden": false
        },
        "id": "Zc8UOxhiIdC4",
        "outputId": "d9d20845-0e93-4c5a-ebc0-f43fa9d6b1f3",
        "colab": {
          "base_uri": "https://localhost:8080/"
        }
      },
      "execution_count": 4,
      "outputs": [
        {
          "output_type": "execute_result",
          "data": {
            "text/plain": [
              "{'Thriller': '1982',\n",
              " 'Back in Black': '1980',\n",
              " 'The Dark Side of the Moon': '1973',\n",
              " 'The Bodyguard': '1992',\n",
              " 'Bat Out of Hell': '1977',\n",
              " 'Their Greatest Hits (1971-1975)': '1976',\n",
              " 'Saturday Night Fever': '1977',\n",
              " 'Rumours': '1977'}"
            ]
          },
          "metadata": {},
          "execution_count": 4
        }
      ]
    },
    {
      "cell_type": "markdown",
      "source": [
        "In summary, like a list, a dictionary holds a sequence of elements. Each element is represented by a key and its corresponding value. Dictionaries are created with two curly braces containing keys and values separated by a colon. For every key, there can only be one single value, however,  multiple keys can hold the same value. Keys can only be strings, numbers, or tuples, but values can be any data type.\n"
      ],
      "metadata": {
        "id": "1chQGe0yIdC5"
      }
    },
    {
      "cell_type": "markdown",
      "source": [
        "It is helpful to visualize the dictionary as a table, as in the following image. The first column represents the keys, the second column represents the values.\n"
      ],
      "metadata": {
        "id": "5XM85ZqEIdC5"
      }
    },
    {
      "cell_type": "markdown",
      "source": [
        "<img src=\"https://cf-courses-data.s3.us.cloud-object-storage.appdomain.cloud/IBMDeveloperSkillsNetwork-PY0101EN-SkillsNetwork/labs/Module%202/images/DictsStructure.png\" width=\"650\">\n"
      ],
      "metadata": {
        "id": "o32fG4rPIdC5"
      }
    },
    {
      "cell_type": "markdown",
      "source": [
        "<h3 id=\"key\">Keys</h3>\n"
      ],
      "metadata": {
        "id": "XZ0WhVXoIdC6"
      }
    },
    {
      "cell_type": "markdown",
      "source": [
        "You can retrieve the values based on the names:\n"
      ],
      "metadata": {
        "id": "_iZ8QESvIdC6"
      }
    },
    {
      "cell_type": "code",
      "source": [
        "# Get value by keys\n",
        "\n",
        "release_year_dict['Thriller'] "
      ],
      "metadata": {
        "jupyter": {
          "outputs_hidden": false
        },
        "id": "BOpNZNz6IdC6",
        "outputId": "69578cf6-8eda-4d96-d345-fb7cd680de48",
        "colab": {
          "base_uri": "https://localhost:8080/",
          "height": 36
        }
      },
      "execution_count": 5,
      "outputs": [
        {
          "output_type": "execute_result",
          "data": {
            "text/plain": [
              "'1982'"
            ],
            "application/vnd.google.colaboratory.intrinsic+json": {
              "type": "string"
            }
          },
          "metadata": {},
          "execution_count": 5
        }
      ]
    },
    {
      "cell_type": "markdown",
      "source": [
        "This corresponds to: \n"
      ],
      "metadata": {
        "id": "uoOKOYxJIdC6"
      }
    },
    {
      "cell_type": "markdown",
      "source": [
        "<img src=\"https://cf-courses-data.s3.us.cloud-object-storage.appdomain.cloud/IBMDeveloperSkillsNetwork-PY0101EN-SkillsNetwork/labs/Module%202/images/DictsKeyOne.png\" width=\"500\">\n"
      ],
      "metadata": {
        "id": "yKqrhdajIdC6"
      }
    },
    {
      "cell_type": "markdown",
      "source": [
        "Similarly for <b>The Bodyguard</b>\n"
      ],
      "metadata": {
        "id": "zusAjkhnIdC7"
      }
    },
    {
      "cell_type": "code",
      "source": [
        "# Get value by key\n",
        "\n",
        "release_year_dict['The Bodyguard'] "
      ],
      "metadata": {
        "jupyter": {
          "outputs_hidden": false
        },
        "id": "DJdWW-laIdC7",
        "outputId": "e3741163-d46c-4de3-ccba-bca3f16f6f66",
        "colab": {
          "base_uri": "https://localhost:8080/",
          "height": 36
        }
      },
      "execution_count": 6,
      "outputs": [
        {
          "output_type": "execute_result",
          "data": {
            "text/plain": [
              "'1992'"
            ],
            "application/vnd.google.colaboratory.intrinsic+json": {
              "type": "string"
            }
          },
          "metadata": {},
          "execution_count": 6
        }
      ]
    },
    {
      "cell_type": "markdown",
      "source": [
        "<img src=\"https://cf-courses-data.s3.us.cloud-object-storage.appdomain.cloud/IBMDeveloperSkillsNetwork-PY0101EN-SkillsNetwork/labs/Module%202/images/DictsKeyTwo.png\" width=\"500\">\n"
      ],
      "metadata": {
        "id": "ZyjbaavZIdC7"
      }
    },
    {
      "cell_type": "markdown",
      "source": [
        "Now let us retrieve the keys of the dictionary using the method <code>keys()</code>:\n"
      ],
      "metadata": {
        "id": "wqJDCjNgIdC7"
      }
    },
    {
      "cell_type": "code",
      "source": [
        "# Get all the keys in dictionary\n",
        "\n",
        "release_year_dict.keys() "
      ],
      "metadata": {
        "jupyter": {
          "outputs_hidden": false
        },
        "id": "HmCDYmpNIdC7",
        "outputId": "8e7fb3b9-d3b4-43ca-ef68-7c6debd4b6ef",
        "colab": {
          "base_uri": "https://localhost:8080/"
        }
      },
      "execution_count": 7,
      "outputs": [
        {
          "output_type": "execute_result",
          "data": {
            "text/plain": [
              "dict_keys(['Thriller', 'Back in Black', 'The Dark Side of the Moon', 'The Bodyguard', 'Bat Out of Hell', 'Their Greatest Hits (1971-1975)', 'Saturday Night Fever', 'Rumours'])"
            ]
          },
          "metadata": {},
          "execution_count": 7
        }
      ]
    },
    {
      "cell_type": "markdown",
      "source": [
        "You can retrieve the values using the method  <code>values()</code>:\n"
      ],
      "metadata": {
        "id": "P4FLWk9zIdC7"
      }
    },
    {
      "cell_type": "code",
      "source": [
        "# Get all the values in dictionary\n",
        "\n",
        "release_year_dict.values() "
      ],
      "metadata": {
        "jupyter": {
          "outputs_hidden": false
        },
        "id": "AEPDy0yrIdC8",
        "outputId": "48007c89-900a-4bbe-90f0-b244b449b486",
        "colab": {
          "base_uri": "https://localhost:8080/"
        }
      },
      "execution_count": 8,
      "outputs": [
        {
          "output_type": "execute_result",
          "data": {
            "text/plain": [
              "dict_values(['1982', '1980', '1973', '1992', '1977', '1976', '1977', '1977'])"
            ]
          },
          "metadata": {},
          "execution_count": 8
        }
      ]
    },
    {
      "cell_type": "markdown",
      "source": [
        "We can add an entry:\n"
      ],
      "metadata": {
        "id": "vsyj5cmLIdC8"
      }
    },
    {
      "cell_type": "code",
      "source": [
        "# Append value with key into dictionary\n",
        "\n",
        "release_year_dict['Graduation'] = '2007'\n",
        "release_year_dict"
      ],
      "metadata": {
        "jupyter": {
          "outputs_hidden": false
        },
        "id": "WkTmMUmmIdC8",
        "outputId": "af58d071-ac40-46ec-f671-b840b4c87c70",
        "colab": {
          "base_uri": "https://localhost:8080/"
        }
      },
      "execution_count": 9,
      "outputs": [
        {
          "output_type": "execute_result",
          "data": {
            "text/plain": [
              "{'Thriller': '1982',\n",
              " 'Back in Black': '1980',\n",
              " 'The Dark Side of the Moon': '1973',\n",
              " 'The Bodyguard': '1992',\n",
              " 'Bat Out of Hell': '1977',\n",
              " 'Their Greatest Hits (1971-1975)': '1976',\n",
              " 'Saturday Night Fever': '1977',\n",
              " 'Rumours': '1977',\n",
              " 'Graduation': '2007'}"
            ]
          },
          "metadata": {},
          "execution_count": 9
        }
      ]
    },
    {
      "cell_type": "markdown",
      "source": [
        "We can delete an entry:   \n"
      ],
      "metadata": {
        "id": "_MYXM42yIdC8"
      }
    },
    {
      "cell_type": "code",
      "source": [
        "# Delete entries by key\n",
        "\n",
        "del(release_year_dict['Thriller'])\n",
        "del(release_year_dict['Graduation'])\n",
        "release_year_dict"
      ],
      "metadata": {
        "jupyter": {
          "outputs_hidden": false
        },
        "id": "7IY0RWCaIdC8",
        "outputId": "fa805863-9186-460e-c098-1462a8610fa1",
        "colab": {
          "base_uri": "https://localhost:8080/"
        }
      },
      "execution_count": 10,
      "outputs": [
        {
          "output_type": "execute_result",
          "data": {
            "text/plain": [
              "{'Back in Black': '1980',\n",
              " 'The Dark Side of the Moon': '1973',\n",
              " 'The Bodyguard': '1992',\n",
              " 'Bat Out of Hell': '1977',\n",
              " 'Their Greatest Hits (1971-1975)': '1976',\n",
              " 'Saturday Night Fever': '1977',\n",
              " 'Rumours': '1977'}"
            ]
          },
          "metadata": {},
          "execution_count": 10
        }
      ]
    },
    {
      "cell_type": "markdown",
      "source": [
        " We can verify if an element is in the dictionary: \n"
      ],
      "metadata": {
        "id": "-ckZT0moIdC8"
      }
    },
    {
      "cell_type": "code",
      "source": [
        "# Verify the key is in the dictionary\n",
        "\n",
        "'The Bodyguard' in release_year_dict"
      ],
      "metadata": {
        "jupyter": {
          "outputs_hidden": false
        },
        "id": "c9zvszWMIdC9",
        "outputId": "c32fdf59-1d26-4ff5-a80a-915c0ad89b8e",
        "colab": {
          "base_uri": "https://localhost:8080/"
        }
      },
      "execution_count": 11,
      "outputs": [
        {
          "output_type": "execute_result",
          "data": {
            "text/plain": [
              "True"
            ]
          },
          "metadata": {},
          "execution_count": 11
        }
      ]
    },
    {
      "cell_type": "markdown",
      "source": [
        "<hr>\n"
      ],
      "metadata": {
        "id": "Q2f6FxLZIdC9"
      }
    },
    {
      "cell_type": "markdown",
      "source": [
        "<h2 id=\"quiz\">Quiz on Dictionaries</h2>\n"
      ],
      "metadata": {
        "id": "EvcKlCuNIdC9"
      }
    },
    {
      "cell_type": "markdown",
      "source": [
        "<b>You will need this dictionary for the next two questions:</b>\n"
      ],
      "metadata": {
        "id": "xRQUXuq6IdC9"
      }
    },
    {
      "cell_type": "code",
      "source": [
        "# Question sample dictionary\n",
        "\n",
        "soundtrack_dic = {\"The Bodyguard\":\"1992\", \"Saturday Night Fever\":\"1977\"}\n",
        "soundtrack_dic "
      ],
      "metadata": {
        "id": "ukK78Q66IdC-",
        "outputId": "64b64fc1-194a-4b1c-e8a2-b0909995b5b0",
        "colab": {
          "base_uri": "https://localhost:8080/"
        }
      },
      "execution_count": 12,
      "outputs": [
        {
          "output_type": "execute_result",
          "data": {
            "text/plain": [
              "{'The Bodyguard': '1992', 'Saturday Night Fever': '1977'}"
            ]
          },
          "metadata": {},
          "execution_count": 12
        }
      ]
    },
    {
      "cell_type": "markdown",
      "source": [
        "a) In the dictionary <code>soundtrack_dic</code> what are the keys ?\n"
      ],
      "metadata": {
        "id": "aczE4D6WIdC-"
      }
    },
    {
      "cell_type": "code",
      "source": [
        "# Write your code below and press Shift+Enter to execute\n",
        "soundtrack_dic.keys()\n"
      ],
      "metadata": {
        "id": "W6aAEmHdIdC-",
        "outputId": "a8ce7561-30da-4ed4-847e-941bb2b3cdf1",
        "colab": {
          "base_uri": "https://localhost:8080/"
        }
      },
      "execution_count": 13,
      "outputs": [
        {
          "output_type": "execute_result",
          "data": {
            "text/plain": [
              "dict_keys(['The Bodyguard', 'Saturday Night Fever'])"
            ]
          },
          "metadata": {},
          "execution_count": 13
        }
      ]
    },
    {
      "cell_type": "markdown",
      "source": [
        "<details><summary>Click here for the solution</summary>\n",
        "\n",
        "```python\n",
        "soundtrack_dic.keys() # The Keys \"The Bodyguard\" and \"Saturday Night Fever\" \n",
        "\n",
        "```\n",
        "\n",
        "</details>\n"
      ],
      "metadata": {
        "id": "uMQwX5WdIdC-"
      }
    },
    {
      "cell_type": "markdown",
      "source": [
        "b) In the dictionary <code>soundtrack_dic</code> what are the values ?\n"
      ],
      "metadata": {
        "id": "oZVLskYUIdC-"
      }
    },
    {
      "cell_type": "code",
      "source": [
        "# Write your code below and press Shift+Enter to execute\n",
        "soundtrack_dic.values()\n"
      ],
      "metadata": {
        "id": "9pJgFoQLIdC-",
        "outputId": "46bc962d-62ed-4610-9d60-1c8a9cbb0f34",
        "colab": {
          "base_uri": "https://localhost:8080/"
        }
      },
      "execution_count": 14,
      "outputs": [
        {
          "output_type": "execute_result",
          "data": {
            "text/plain": [
              "dict_values(['1992', '1977'])"
            ]
          },
          "metadata": {},
          "execution_count": 14
        }
      ]
    },
    {
      "cell_type": "markdown",
      "source": [
        "<details><summary>Click here for the solution</summary>\n",
        "\n",
        "```python\n",
        "soundtrack_dic.values() # The values are \"1992\" and \"1977\"\n",
        "\n",
        "```\n",
        "\n",
        "</details>\n"
      ],
      "metadata": {
        "id": "aUXSDNhdIdC_"
      }
    },
    {
      "cell_type": "markdown",
      "source": [
        "<hr>\n"
      ],
      "metadata": {
        "id": "awY5pQyTIdC_"
      }
    },
    {
      "cell_type": "markdown",
      "source": [
        "<b>You will need this dictionary for the following questions:</b>\n"
      ],
      "metadata": {
        "id": "URIWwKrNIdC_"
      }
    },
    {
      "cell_type": "markdown",
      "source": [
        "The Albums <b>Back in Black</b>, <b>The Bodyguard</b> and <b>Thriller</b> have the following music recording sales in millions 50, 50 and 65 respectively:\n"
      ],
      "metadata": {
        "id": "fYqn69sTIdC_"
      }
    },
    {
      "cell_type": "markdown",
      "source": [
        "a) Create a dictionary <code>album_sales_dict</code> where the keys are the album name and the sales in millions are the values. \n"
      ],
      "metadata": {
        "id": "wFhvOOqSIdC_"
      }
    },
    {
      "cell_type": "code",
      "source": [
        "# Write your code below and press Shift+Enter to execute\n",
        "album_sales_dict = {\"The Bodyguard\":50,\n",
        "                    \"Back in Black\":50,\n",
        "                    \"Thriller\":65}\n"
      ],
      "metadata": {
        "id": "q31L655RIdC_"
      },
      "execution_count": 15,
      "outputs": []
    },
    {
      "cell_type": "markdown",
      "source": [
        "<details><summary>Click here for the solution</summary>\n",
        "\n",
        "```python\n",
        "album_sales_dict = {\"The Bodyguard\":50, \"Back in Black\":50, \"Thriller\":65}\n",
        "\n",
        "```\n",
        "\n",
        "</details>\n"
      ],
      "metadata": {
        "id": "SK18tIfXIdDA"
      }
    },
    {
      "cell_type": "markdown",
      "source": [
        "b) Use the dictionary to find the total sales of <b>Thriller</b>:\n"
      ],
      "metadata": {
        "id": "xfN_jB8-IdDA"
      }
    },
    {
      "cell_type": "code",
      "source": [
        "# Write your code below and press Shift+Enter to execute\n",
        "album_sales_dict[\"Thriller\"]"
      ],
      "metadata": {
        "jupyter": {
          "outputs_hidden": false
        },
        "id": "hoIpwF_XIdDA",
        "outputId": "82402f7c-0437-43dd-c746-8da66b8ab14b",
        "colab": {
          "base_uri": "https://localhost:8080/"
        }
      },
      "execution_count": 16,
      "outputs": [
        {
          "output_type": "execute_result",
          "data": {
            "text/plain": [
              "65"
            ]
          },
          "metadata": {},
          "execution_count": 16
        }
      ]
    },
    {
      "cell_type": "markdown",
      "source": [
        "<details><summary>Click here for the solution</summary>\n",
        "\n",
        "```python\n",
        "album_sales_dict[\"Thriller\"]\n",
        "\n",
        "```\n",
        "\n",
        "</details>\n"
      ],
      "metadata": {
        "id": "WtjlpObeIdDA"
      }
    },
    {
      "cell_type": "markdown",
      "source": [
        "c) Find the names of the albums from the dictionary using the method <code>keys()</code>:\n"
      ],
      "metadata": {
        "id": "GrBMwFOMIdDA"
      }
    },
    {
      "cell_type": "code",
      "source": [
        "# Write your code below and press Shift+Enter to execute\n",
        "album_sales_dict.keys()\n"
      ],
      "metadata": {
        "jupyter": {
          "outputs_hidden": false
        },
        "id": "78MomBisIdDA",
        "outputId": "4856ad6e-f672-4a21-cdea-23119af71a9c",
        "colab": {
          "base_uri": "https://localhost:8080/"
        }
      },
      "execution_count": 17,
      "outputs": [
        {
          "output_type": "execute_result",
          "data": {
            "text/plain": [
              "dict_keys(['The Bodyguard', 'Back in Black', 'Thriller'])"
            ]
          },
          "metadata": {},
          "execution_count": 17
        }
      ]
    },
    {
      "cell_type": "markdown",
      "source": [
        "<details><summary>Click here for the solution</summary>\n",
        "\n",
        "```python\n",
        "album_sales_dict.keys()\n",
        "\n",
        "```\n",
        "\n",
        "</details>\n"
      ],
      "metadata": {
        "id": "NXcKDHYpIdDA"
      }
    },
    {
      "cell_type": "markdown",
      "source": [
        "d) Find the values of the recording sales from the dictionary using the method <code>values</code>:\n"
      ],
      "metadata": {
        "id": "P4L3pNH6IdDB"
      }
    },
    {
      "cell_type": "code",
      "source": [
        "# Write your code below and press Shift+Enter to execute\n",
        "album_sales_dict.values()\n"
      ],
      "metadata": {
        "jupyter": {
          "outputs_hidden": false
        },
        "id": "aH6CmckkIdDB",
        "outputId": "08654395-5e67-4b97-968e-640f5d356d3e",
        "colab": {
          "base_uri": "https://localhost:8080/"
        }
      },
      "execution_count": 18,
      "outputs": [
        {
          "output_type": "execute_result",
          "data": {
            "text/plain": [
              "dict_values([50, 50, 65])"
            ]
          },
          "metadata": {},
          "execution_count": 18
        }
      ]
    },
    {
      "cell_type": "markdown",
      "source": [
        "<details><summary>Click here for the solution</summary>\n",
        "\n",
        "```python\n",
        "album_sales_dict.values()\n",
        "\n",
        "```\n",
        "\n",
        "</details>\n"
      ],
      "metadata": {
        "id": "kq8NcBn3IdDB"
      }
    },
    {
      "cell_type": "markdown",
      "source": [
        "<hr>\n",
        "<h2>The last exercise!</h2>\n",
        "<p>Congratulations, you have completed your first lesson and hands-on lab in Python. \n",
        "<hr>\n"
      ],
      "metadata": {
        "id": "mVhhC5QHIdDB"
      }
    },
    {
      "cell_type": "markdown",
      "source": [
        "## Author\n",
        "\n",
        "<a href=\"https://www.linkedin.com/in/joseph-s-50398b136/?utm_medium=Exinfluencer&utm_source=Exinfluencer&utm_content=000026UJ&utm_term=10006555&utm_id=NA-SkillsNetwork-Channel-SkillsNetworkCoursesIBMDeveloperSkillsNetworkPY0101ENSkillsNetwork1005-2022-01-01\" target=\"_blank\">Joseph Santarcangelo</a>\n",
        "\n",
        "\n",
        "## Other contributors\n",
        "\n",
        "<a href=\"www.linkedin.com/in/jiahui-mavis-zhou-a4537814a\">Mavis Zhou</a>\n",
        "\n",
        "\n",
        "## Change Log\n",
        "\n",
        "\n",
        "|  Date (YYYY-MM-DD) |  Version | Changed By  |  Change Description |\n",
        "|---|---|---|---|\n",
        "| 2022-01-10  | 2.2  | Malika Singla| Removed the readme for GitShare|\n",
        "| 2020-09-09 | 2.1 | Malika Singla | Updated the variable soundtrack_dict to soundtrack_dic in Questions |\n",
        "| 2020-08-26  | 2.0  | Lavanya | Moved lab to course repo in GitLab |\n",
        "|   |   |   |   |\n",
        "|   |   |   |   |\n",
        "\n",
        "\n",
        "## <h3 align=\"center\"> © IBM Corporation 2020. All rights reserved. <h3/>\n"
      ],
      "metadata": {
        "id": "FElJFpR8IdDB"
      }
    }
  ]
}