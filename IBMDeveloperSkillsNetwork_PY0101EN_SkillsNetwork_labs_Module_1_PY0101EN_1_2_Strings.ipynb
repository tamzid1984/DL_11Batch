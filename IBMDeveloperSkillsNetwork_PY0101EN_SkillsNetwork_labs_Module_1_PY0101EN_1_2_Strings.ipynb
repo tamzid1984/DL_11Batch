{
  "metadata": {
    "kernelspec": {
      "name": "python",
      "display_name": "Pyolite",
      "language": "python"
    },
    "language_info": {
      "codemirror_mode": {
        "name": "python",
        "version": 3
      },
      "file_extension": ".py",
      "mimetype": "text/x-python",
      "name": "python",
      "nbconvert_exporter": "python",
      "pygments_lexer": "ipython3",
      "version": "3.8"
    },
    "colab": {
      "provenance": [],
      "include_colab_link": true
    }
  },
  "nbformat_minor": 0,
  "nbformat": 4,
  "cells": [
    {
      "cell_type": "markdown",
      "metadata": {
        "id": "view-in-github",
        "colab_type": "text"
      },
      "source": [
        "<a href=\"https://colab.research.google.com/github/tamzid1984/DL_11Batch/blob/main/IBMDeveloperSkillsNetwork_PY0101EN_SkillsNetwork_labs_Module_1_PY0101EN_1_2_Strings.ipynb\" target=\"_parent\"><img src=\"https://colab.research.google.com/assets/colab-badge.svg\" alt=\"Open In Colab\"/></a>"
      ]
    },
    {
      "cell_type": "markdown",
      "source": [
        "<p style=\"text-align:center\">\n",
        "    <a href=\"https://skills.network/?utm_medium=Exinfluencer&utm_source=Exinfluencer&utm_content=000026UJ&utm_term=10006555&utm_id=NA-SkillsNetwork-Channel-SkillsNetworkCoursesIBMDeveloperSkillsNetworkPY0101ENSkillsNetwork1005-2022-01-01\" target=\"_blank\">\n",
        "    <img src=\"https://cf-courses-data.s3.us.cloud-object-storage.appdomain.cloud/assets/logos/SN_web_lightmode.png\" width=\"200\" alt=\"Skills Network Logo\"  />\n",
        "    </a>\n",
        "</p>\n",
        "\n",
        "\n",
        "# String Operations\n",
        "\n",
        "\n",
        "Estimated time needed: **15** minutes\n",
        "    \n",
        "\n",
        "## Objectives\n",
        "\n",
        "After completing this lab you will be able to:\n",
        "\n",
        "* Work with Strings    \n",
        "* Perform operations on String\n",
        "* Manipulate Strings using indexing and escape sequences\n"
      ],
      "metadata": {
        "id": "p6PcIIB0G709"
      }
    },
    {
      "cell_type": "markdown",
      "source": [
        "<h2>Table of Contents</h2>\n",
        "<div class=\"alert alert-block alert-info\" style=\"margin-top: 20px\">\n",
        "    <ul>\n",
        "        <li>\n",
        "            <a href=\"#strings\">What are Strings?</a>\n",
        "        </li>\n",
        "        <li>\n",
        "            <a href=\"#index\">Indexing</a>\n",
        "            <ul>\n",
        "                <li><a href=\"neg\">Negative Indexing</a></li>\n",
        "                <li><a href=\"slice\">Slicing</a></li>\n",
        "                <li><a href=\"stride\">Stride</a></li>\n",
        "                <li><a href=\"concat\">Concatenate Strings</a></li>\n",
        "            </ul>\n",
        "        </li>\n",
        "        <li>\n",
        "            <a href=\"#escape\">Escape Sequences</a>\n",
        "        </li>\n",
        "        <li>\n",
        "            <a href=\"#operations\">String Operations</a>\n",
        "        </li>\n",
        "        <li>\n",
        "            <a href=\"#quiz\">Quiz on Strings</a>\n",
        "        </li>\n",
        "    </ul>\n",
        "   \n",
        "</div>\n",
        "\n",
        "<hr>\n"
      ],
      "metadata": {
        "id": "kTcgzpLlG70_"
      }
    },
    {
      "cell_type": "markdown",
      "source": [
        "<h2 id=\"strings\">What are Strings?</h2>\n"
      ],
      "metadata": {
        "id": "t5kHdQvVG71A"
      }
    },
    {
      "cell_type": "markdown",
      "source": [
        "The following example shows a string contained within 2 quotation marks:\n"
      ],
      "metadata": {
        "id": "O24RosdxG71A"
      }
    },
    {
      "cell_type": "code",
      "source": [
        "# Use quotation marks for defining string\n",
        "\n",
        "\"Michael Jackson\""
      ],
      "metadata": {
        "id": "6bqSNqOpG71A",
        "outputId": "06cd93b3-83a8-43c1-fda6-2e54ff9a5832",
        "colab": {
          "base_uri": "https://localhost:8080/",
          "height": 36
        }
      },
      "execution_count": 1,
      "outputs": [
        {
          "output_type": "execute_result",
          "data": {
            "text/plain": [
              "'Michael Jackson'"
            ],
            "application/vnd.google.colaboratory.intrinsic+json": {
              "type": "string"
            }
          },
          "metadata": {},
          "execution_count": 1
        }
      ]
    },
    {
      "cell_type": "markdown",
      "source": [
        "We can also use single quotation marks:\n"
      ],
      "metadata": {
        "id": "pe1c0D8lG71B"
      }
    },
    {
      "cell_type": "code",
      "source": [
        "# Use single quotation marks for defining string\n",
        "\n",
        "'Michael Jackson'"
      ],
      "metadata": {
        "id": "CLGs1MnRG71B",
        "outputId": "b8872d10-d561-4e3b-8357-049bf49dfbd9",
        "colab": {
          "base_uri": "https://localhost:8080/",
          "height": 36
        }
      },
      "execution_count": 2,
      "outputs": [
        {
          "output_type": "execute_result",
          "data": {
            "text/plain": [
              "'Michael Jackson'"
            ],
            "application/vnd.google.colaboratory.intrinsic+json": {
              "type": "string"
            }
          },
          "metadata": {},
          "execution_count": 2
        }
      ]
    },
    {
      "cell_type": "markdown",
      "source": [
        "A string can be a combination of spaces and digits: \n"
      ],
      "metadata": {
        "id": "FtCI2Jn4G71C"
      }
    },
    {
      "cell_type": "code",
      "source": [
        "# Digitals and spaces in string\n",
        "\n",
        "'1 2 3 4 5 6 '"
      ],
      "metadata": {
        "id": "HLNBcCTGG71C",
        "outputId": "b7b32bda-d3e1-4d21-d886-b8b424d3fa2c",
        "colab": {
          "base_uri": "https://localhost:8080/",
          "height": 36
        }
      },
      "execution_count": 3,
      "outputs": [
        {
          "output_type": "execute_result",
          "data": {
            "text/plain": [
              "'1 2 3 4 5 6 '"
            ],
            "application/vnd.google.colaboratory.intrinsic+json": {
              "type": "string"
            }
          },
          "metadata": {},
          "execution_count": 3
        }
      ]
    },
    {
      "cell_type": "markdown",
      "source": [
        "A string can also be a combination of special characters : \n"
      ],
      "metadata": {
        "id": "LvmP8ULFG71C"
      }
    },
    {
      "cell_type": "code",
      "source": [
        "# Special characters in string\n",
        "\n",
        "'@#2_#]&*^%$'"
      ],
      "metadata": {
        "id": "-1Lvo2etG71D",
        "outputId": "8d55b266-7f55-482a-ea86-db2b947fb248",
        "colab": {
          "base_uri": "https://localhost:8080/",
          "height": 36
        }
      },
      "execution_count": 4,
      "outputs": [
        {
          "output_type": "execute_result",
          "data": {
            "text/plain": [
              "'@#2_#]&*^%$'"
            ],
            "application/vnd.google.colaboratory.intrinsic+json": {
              "type": "string"
            }
          },
          "metadata": {},
          "execution_count": 4
        }
      ]
    },
    {
      "cell_type": "markdown",
      "source": [
        "We can print our string using the print statement:\n"
      ],
      "metadata": {
        "id": "3Q4US8dpG71D"
      }
    },
    {
      "cell_type": "code",
      "source": [
        "# Print the string\n",
        "\n",
        "print(\"hello!\")"
      ],
      "metadata": {
        "id": "y2ibEh0kG71D",
        "outputId": "b0361fcd-8ba6-45f8-a9d3-ddff5b6a3322",
        "colab": {
          "base_uri": "https://localhost:8080/"
        }
      },
      "execution_count": 5,
      "outputs": [
        {
          "output_type": "stream",
          "name": "stdout",
          "text": [
            "hello!\n"
          ]
        }
      ]
    },
    {
      "cell_type": "markdown",
      "source": [
        "We can bind or assign a string to another variable:\n"
      ],
      "metadata": {
        "id": "CNZZwz_EG71D"
      }
    },
    {
      "cell_type": "code",
      "source": [
        "# Assign string to variable\n",
        "\n",
        "name = \"Michael Jackson\"\n",
        "name"
      ],
      "metadata": {
        "id": "6dkfp0osG71D",
        "outputId": "b0633789-4915-4cc2-f480-f4281c76803e",
        "colab": {
          "base_uri": "https://localhost:8080/",
          "height": 36
        }
      },
      "execution_count": 6,
      "outputs": [
        {
          "output_type": "execute_result",
          "data": {
            "text/plain": [
              "'Michael Jackson'"
            ],
            "application/vnd.google.colaboratory.intrinsic+json": {
              "type": "string"
            }
          },
          "metadata": {},
          "execution_count": 6
        }
      ]
    },
    {
      "cell_type": "markdown",
      "source": [
        "<hr>\n"
      ],
      "metadata": {
        "id": "y5FMY_x1G71D"
      }
    },
    {
      "cell_type": "markdown",
      "source": [
        "<h2 id=\"index\">Indexing</h2>\n"
      ],
      "metadata": {
        "id": "46Z_J4fZG71E"
      }
    },
    {
      "cell_type": "markdown",
      "source": [
        "It is helpful to think of a string as an ordered sequence. Each element in the sequence can be accessed using an index represented by the array of numbers:  \n"
      ],
      "metadata": {
        "id": "5Z702__gG71E"
      }
    },
    {
      "cell_type": "markdown",
      "source": [
        "<img src=\"https://cf-courses-data.s3.us.cloud-object-storage.appdomain.cloud/IBMDeveloperSkillsNetwork-PY0101EN-SkillsNetwork/labs/Module%201/images/StringsIndex.png\" width=\"600\" align=\"center\">\n"
      ],
      "metadata": {
        "id": "iGBPmBX9G71E"
      }
    },
    {
      "cell_type": "markdown",
      "source": [
        " The first index can be accessed as follows:\n"
      ],
      "metadata": {
        "id": "tKcbbGAsG71E"
      }
    },
    {
      "cell_type": "markdown",
      "source": [
        "<hr/>\n",
        "<div class=\"alert alert-success alertsuccess\" style=\"margin-top: 20px\">\n",
        "[Tip]: Because indexing starts at 0, it means the first index is on the index 0.\n",
        "</div>\n",
        "<hr/>\n"
      ],
      "metadata": {
        "id": "sme9Vj04G71E"
      }
    },
    {
      "cell_type": "code",
      "source": [
        "# Print the first element in the string\n",
        "\n",
        "print(name[0])"
      ],
      "metadata": {
        "id": "o0dVHuDPG71E",
        "outputId": "8ba824fc-f21b-46a1-a201-9e202877d008",
        "colab": {
          "base_uri": "https://localhost:8080/"
        }
      },
      "execution_count": 7,
      "outputs": [
        {
          "output_type": "stream",
          "name": "stdout",
          "text": [
            "M\n"
          ]
        }
      ]
    },
    {
      "cell_type": "markdown",
      "source": [
        " We can access index 6:\n"
      ],
      "metadata": {
        "id": "UTf3sPS7G71F"
      }
    },
    {
      "cell_type": "code",
      "source": [
        "# Print the element on index 6 in the string\n",
        "\n",
        "print(name[6])"
      ],
      "metadata": {
        "id": "hxJHjurnG71F",
        "outputId": "bb199b81-9426-40c2-dedc-db7a15a0e264",
        "colab": {
          "base_uri": "https://localhost:8080/"
        }
      },
      "execution_count": 8,
      "outputs": [
        {
          "output_type": "stream",
          "name": "stdout",
          "text": [
            "l\n"
          ]
        }
      ]
    },
    {
      "cell_type": "markdown",
      "source": [
        "Moreover, we can access the 13th index:\n"
      ],
      "metadata": {
        "id": "6CAqHgy9G71F"
      }
    },
    {
      "cell_type": "code",
      "source": [
        "# Print the element on the 13th index in the string\n",
        "\n",
        "print(name[13])"
      ],
      "metadata": {
        "id": "MtoAZTLVG71F",
        "outputId": "87bcaf52-bab1-40a6-e9ec-24bc6e67c41a",
        "colab": {
          "base_uri": "https://localhost:8080/"
        }
      },
      "execution_count": 9,
      "outputs": [
        {
          "output_type": "stream",
          "name": "stdout",
          "text": [
            "o\n"
          ]
        }
      ]
    },
    {
      "cell_type": "markdown",
      "source": [
        "<h3 id=\"neg\">Negative Indexing</h3>\n"
      ],
      "metadata": {
        "id": "BCIlV6B1G71F"
      }
    },
    {
      "cell_type": "markdown",
      "source": [
        " We can also use negative indexing with strings:\n"
      ],
      "metadata": {
        "id": "Jm2EmgogG71F"
      }
    },
    {
      "cell_type": "markdown",
      "source": [
        "<img src=\"https://cf-courses-data.s3.us.cloud-object-storage.appdomain.cloud/IBMDeveloperSkillsNetwork-PY0101EN-SkillsNetwork/labs/Module%201/images/StringsNeg.png\" width=\"600\" align=\"center\">\n"
      ],
      "metadata": {
        "id": "mZENkGYvG71G"
      }
    },
    {
      "cell_type": "markdown",
      "source": [
        "Negative index can help us to count the element from the end of the string.\n"
      ],
      "metadata": {
        "id": "Y_PDyflqG71G"
      }
    },
    {
      "cell_type": "markdown",
      "source": [
        "The last element is given by the index -1: \n"
      ],
      "metadata": {
        "id": "2SwRIX5hG71G"
      }
    },
    {
      "cell_type": "code",
      "source": [
        "# Print the last element in the string\n",
        "\n",
        "print(name[-1])"
      ],
      "metadata": {
        "id": "Kct13s5pG71G",
        "outputId": "cbd33391-d4be-4a9c-8bf1-236d6f5bdaac",
        "colab": {
          "base_uri": "https://localhost:8080/"
        }
      },
      "execution_count": 10,
      "outputs": [
        {
          "output_type": "stream",
          "name": "stdout",
          "text": [
            "n\n"
          ]
        }
      ]
    },
    {
      "cell_type": "markdown",
      "source": [
        " The first element can be obtained by  index -15:\n"
      ],
      "metadata": {
        "id": "-_7ZWYXuG71G"
      }
    },
    {
      "cell_type": "code",
      "source": [
        "# Print the first element in the string\n",
        "\n",
        "print(name[-15])"
      ],
      "metadata": {
        "id": "3cPMGI5oG71G",
        "outputId": "c218e927-df00-4271-f3d9-5b48e209e800",
        "colab": {
          "base_uri": "https://localhost:8080/"
        }
      },
      "execution_count": 11,
      "outputs": [
        {
          "output_type": "stream",
          "name": "stdout",
          "text": [
            "M\n"
          ]
        }
      ]
    },
    {
      "cell_type": "markdown",
      "source": [
        "We can find the number of characters in a string by using <code>len</code>, short for length:\n"
      ],
      "metadata": {
        "id": "zlB2eHyBG71G"
      }
    },
    {
      "cell_type": "code",
      "source": [
        "# Find the length of string\n",
        "\n",
        "len(\"Michael Jackson\")"
      ],
      "metadata": {
        "id": "b2KkKEU5G71H",
        "outputId": "67cda3a1-5606-4e47-f11f-8d2eb1b3457e",
        "colab": {
          "base_uri": "https://localhost:8080/"
        }
      },
      "execution_count": 12,
      "outputs": [
        {
          "output_type": "execute_result",
          "data": {
            "text/plain": [
              "15"
            ]
          },
          "metadata": {},
          "execution_count": 12
        }
      ]
    },
    {
      "cell_type": "markdown",
      "source": [
        "<h3 id=\"slice\">Slicing</h3>\n"
      ],
      "metadata": {
        "id": "r6hvG0bCG71H"
      }
    },
    {
      "cell_type": "markdown",
      "source": [
        "We can obtain multiple characters from a string using slicing, we can obtain the 0 to 4th and 8th to the 12th element:  \n"
      ],
      "metadata": {
        "id": "PHtHUFhfG71H"
      }
    },
    {
      "cell_type": "markdown",
      "source": [
        "<img src=\"https://cf-courses-data.s3.us.cloud-object-storage.appdomain.cloud/IBMDeveloperSkillsNetwork-PY0101EN-SkillsNetwork/labs/Module%201/images/StringsSlice.png\" width=\"600\" align=\"center\">\n"
      ],
      "metadata": {
        "id": "pVdKNSqsG71H"
      }
    },
    {
      "cell_type": "markdown",
      "source": [
        "<hr/>\n",
        "<div class=\"alert alert-success alertsuccess\" style=\"margin-top: 20px\">\n",
        "[Tip]: When taking the slice, the first number means the index (start at 0), and the second number means the length from the index to the last element you want (start at 1)\n",
        "</div>\n",
        "<hr/>\n"
      ],
      "metadata": {
        "id": "zOmBkF5XG71H"
      }
    },
    {
      "cell_type": "code",
      "source": [
        "# Take the slice on variable name with only index 0 to index 3\n",
        "\n",
        "name[0:4]"
      ],
      "metadata": {
        "id": "-e0RHInoG71H",
        "outputId": "537a5d70-9895-4533-e02d-fb7314e9128c",
        "colab": {
          "base_uri": "https://localhost:8080/",
          "height": 36
        }
      },
      "execution_count": 13,
      "outputs": [
        {
          "output_type": "execute_result",
          "data": {
            "text/plain": [
              "'Mich'"
            ],
            "application/vnd.google.colaboratory.intrinsic+json": {
              "type": "string"
            }
          },
          "metadata": {},
          "execution_count": 13
        }
      ]
    },
    {
      "cell_type": "code",
      "source": [
        "# Take the slice on variable name with only index 8 to index 11\n",
        "\n",
        "name[8:12]"
      ],
      "metadata": {
        "id": "Jgii5lMrG71I",
        "outputId": "9a1ae749-3a2c-4534-e1b1-16dd0e4ce3d2",
        "colab": {
          "base_uri": "https://localhost:8080/",
          "height": 36
        }
      },
      "execution_count": 14,
      "outputs": [
        {
          "output_type": "execute_result",
          "data": {
            "text/plain": [
              "'Jack'"
            ],
            "application/vnd.google.colaboratory.intrinsic+json": {
              "type": "string"
            }
          },
          "metadata": {},
          "execution_count": 14
        }
      ]
    },
    {
      "cell_type": "markdown",
      "source": [
        "<h3 id=\"stride\">Stride</h3>\n"
      ],
      "metadata": {
        "id": "PNpFT4A7G71I"
      }
    },
    {
      "cell_type": "markdown",
      "source": [
        " We can also  input a stride value as follows, with the '2' indicating that we are selecting every second variable:\n"
      ],
      "metadata": {
        "id": "xwfujULdG71I"
      }
    },
    {
      "cell_type": "markdown",
      "source": [
        "<img src=\"https://cf-courses-data.s3.us.cloud-object-storage.appdomain.cloud/IBMDeveloperSkillsNetwork-PY0101EN-SkillsNetwork/labs/Module%201/images/StringsStride.png\" width=\"600\" align=\"center\">\n"
      ],
      "metadata": {
        "id": "mzYaYL0QG71I"
      }
    },
    {
      "cell_type": "code",
      "source": [
        "# Get every second element. The elments on index 1, 3, 5 ...\n",
        "\n",
        "name[::2]"
      ],
      "metadata": {
        "id": "GQiT39rFG71I",
        "outputId": "caa25032-b01f-4781-f811-aeb0a1a233a5",
        "colab": {
          "base_uri": "https://localhost:8080/",
          "height": 36
        }
      },
      "execution_count": 15,
      "outputs": [
        {
          "output_type": "execute_result",
          "data": {
            "text/plain": [
              "'McalJcsn'"
            ],
            "application/vnd.google.colaboratory.intrinsic+json": {
              "type": "string"
            }
          },
          "metadata": {},
          "execution_count": 15
        }
      ]
    },
    {
      "cell_type": "markdown",
      "source": [
        "We can also incorporate slicing  with the stride. In this case, we select the first five elements and then use the stride: \n"
      ],
      "metadata": {
        "id": "zisiXPiuG71I"
      }
    },
    {
      "cell_type": "code",
      "source": [
        "# Get every second element in the range from index 0 to index 4\n",
        "\n",
        "name[0:5:2]"
      ],
      "metadata": {
        "id": "YxlFT-YOG71I",
        "outputId": "51373991-f6ca-4b79-b348-a6914f1dd7ab",
        "colab": {
          "base_uri": "https://localhost:8080/",
          "height": 36
        }
      },
      "execution_count": 16,
      "outputs": [
        {
          "output_type": "execute_result",
          "data": {
            "text/plain": [
              "'Mca'"
            ],
            "application/vnd.google.colaboratory.intrinsic+json": {
              "type": "string"
            }
          },
          "metadata": {},
          "execution_count": 16
        }
      ]
    },
    {
      "cell_type": "markdown",
      "source": [
        "<h3 id=\"concat\">Concatenate Strings</h3>\n"
      ],
      "metadata": {
        "id": "5rL2h5gkG71J"
      }
    },
    {
      "cell_type": "markdown",
      "source": [
        "We can concatenate or combine strings by using the addition symbols, and the result is a new string that is a combination of both:\n"
      ],
      "metadata": {
        "id": "S4P17XTqG71J"
      }
    },
    {
      "cell_type": "code",
      "source": [
        "# Concatenate two strings\n",
        "\n",
        "statement = name + \"is the best\"\n",
        "statement"
      ],
      "metadata": {
        "id": "fa1Wga5MG71J",
        "outputId": "590476ac-90b7-48aa-a01a-84a11cd1a28b",
        "colab": {
          "base_uri": "https://localhost:8080/",
          "height": 36
        }
      },
      "execution_count": 17,
      "outputs": [
        {
          "output_type": "execute_result",
          "data": {
            "text/plain": [
              "'Michael Jacksonis the best'"
            ],
            "application/vnd.google.colaboratory.intrinsic+json": {
              "type": "string"
            }
          },
          "metadata": {},
          "execution_count": 17
        }
      ]
    },
    {
      "cell_type": "markdown",
      "source": [
        "To replicate values of a string we simply multiply the string by the number of times we would like to replicate it. In this case, the number is three. The result is a new string, and this new string consists of three copies of the original string:\n"
      ],
      "metadata": {
        "id": "uBvlSybrG71J"
      }
    },
    {
      "cell_type": "code",
      "source": [
        "# Print the string for 3 times\n",
        "\n",
        "3 * \"Michael Jackson\""
      ],
      "metadata": {
        "id": "xwWuMej4G71J",
        "outputId": "269177a6-2290-415f-90df-6800caf2f122",
        "colab": {
          "base_uri": "https://localhost:8080/",
          "height": 36
        }
      },
      "execution_count": 18,
      "outputs": [
        {
          "output_type": "execute_result",
          "data": {
            "text/plain": [
              "'Michael JacksonMichael JacksonMichael Jackson'"
            ],
            "application/vnd.google.colaboratory.intrinsic+json": {
              "type": "string"
            }
          },
          "metadata": {},
          "execution_count": 18
        }
      ]
    },
    {
      "cell_type": "markdown",
      "source": [
        "You can create a new string by setting it to the original variable. Concatenated  with a new string, the result is a new string that changes from Michael Jackson to “Michael Jackson is the best\".\n"
      ],
      "metadata": {
        "id": "uMryhoMwG71J"
      }
    },
    {
      "cell_type": "code",
      "source": [
        "# Concatenate strings\n",
        "\n",
        "name = \"Michael Jackson\"\n",
        "name = name + \" is the best\"\n",
        "name"
      ],
      "metadata": {
        "id": "SfkdowYWG71J",
        "outputId": "2c9ebd29-1221-43da-81c7-fc4e505ecd20",
        "colab": {
          "base_uri": "https://localhost:8080/",
          "height": 36
        }
      },
      "execution_count": 19,
      "outputs": [
        {
          "output_type": "execute_result",
          "data": {
            "text/plain": [
              "'Michael Jackson is the best'"
            ],
            "application/vnd.google.colaboratory.intrinsic+json": {
              "type": "string"
            }
          },
          "metadata": {},
          "execution_count": 19
        }
      ]
    },
    {
      "cell_type": "markdown",
      "source": [
        "<hr>\n"
      ],
      "metadata": {
        "id": "2_SldNouG71K"
      }
    },
    {
      "cell_type": "markdown",
      "source": [
        "<h2 id=\"escape\">Escape Sequences</h2>\n"
      ],
      "metadata": {
        "id": "sLa26fIIG71K"
      }
    },
    {
      "cell_type": "markdown",
      "source": [
        "Back slashes represent the beginning  of escape sequences. Escape sequences represent strings that may be difficult to input. For example, back slash \"n\" represents a new line. The output is given by a new line after the back slash \"n\" is encountered:\n"
      ],
      "metadata": {
        "id": "EGitBwH4G71K"
      }
    },
    {
      "cell_type": "code",
      "source": [
        "# New line escape sequence\n",
        "\n",
        "print(\" Michael Jackson \\n is the best\" )"
      ],
      "metadata": {
        "id": "hHnSgksKG71K",
        "outputId": "cfa9c4ac-c91c-4a9f-bd86-214242f6c560",
        "colab": {
          "base_uri": "https://localhost:8080/"
        }
      },
      "execution_count": 20,
      "outputs": [
        {
          "output_type": "stream",
          "name": "stdout",
          "text": [
            " Michael Jackson \n",
            " is the best\n"
          ]
        }
      ]
    },
    {
      "cell_type": "markdown",
      "source": [
        "Similarly, back slash  \"t\" represents a tab: \n"
      ],
      "metadata": {
        "id": "7BnB3akIG71K"
      }
    },
    {
      "cell_type": "code",
      "source": [
        "# Tab escape sequence\n",
        "\n",
        "print(\" Michael Jackson \\t is the best\" )"
      ],
      "metadata": {
        "id": "h9b6Y8fIG71K",
        "outputId": "51706d75-4434-4046-cabc-0f43130316be",
        "colab": {
          "base_uri": "https://localhost:8080/"
        }
      },
      "execution_count": 21,
      "outputs": [
        {
          "output_type": "stream",
          "name": "stdout",
          "text": [
            " Michael Jackson \t is the best\n"
          ]
        }
      ]
    },
    {
      "cell_type": "markdown",
      "source": [
        " If you want to place a back slash in your string, use a double back slash:\n"
      ],
      "metadata": {
        "id": "KYwmwwU7G71L"
      }
    },
    {
      "cell_type": "code",
      "source": [
        "# Include back slash in string\n",
        "\n",
        "print(\" Michael Jackson \\\\ is the best\" )"
      ],
      "metadata": {
        "id": "T-1yAVAeG71L",
        "outputId": "bf124248-a754-4353-d2a4-98f42e66bebb",
        "colab": {
          "base_uri": "https://localhost:8080/"
        }
      },
      "execution_count": 22,
      "outputs": [
        {
          "output_type": "stream",
          "name": "stdout",
          "text": [
            " Michael Jackson \\ is the best\n"
          ]
        }
      ]
    },
    {
      "cell_type": "markdown",
      "source": [
        " We can also place an \"r\" before the string to display the backslash:\n"
      ],
      "metadata": {
        "id": "XOuJnl8zG71L"
      }
    },
    {
      "cell_type": "code",
      "source": [
        "# r will tell python that string will be display as raw string\n",
        "\n",
        "print(r\" Michael Jackson \\ is the best\" )"
      ],
      "metadata": {
        "id": "ohzoSJ7VG71L",
        "outputId": "f21d8688-ee63-4d9c-85bc-0735c295df16",
        "colab": {
          "base_uri": "https://localhost:8080/"
        }
      },
      "execution_count": 23,
      "outputs": [
        {
          "output_type": "stream",
          "name": "stdout",
          "text": [
            " Michael Jackson \\ is the best\n"
          ]
        }
      ]
    },
    {
      "cell_type": "markdown",
      "source": [
        "<hr>\n"
      ],
      "metadata": {
        "id": "8Mwh_2UtG71L"
      }
    },
    {
      "cell_type": "markdown",
      "source": [
        "<h2 id=\"operations\">String Operations</h2>\n"
      ],
      "metadata": {
        "id": "C6uZjtO8G71L"
      }
    },
    {
      "cell_type": "markdown",
      "source": [
        "There are many string operation methods in Python that can be used to manipulate the data. We are going to use some basic string operations on the data. \n"
      ],
      "metadata": {
        "id": "kneUpmByG71L"
      }
    },
    {
      "cell_type": "markdown",
      "source": [
        "Let's try with the method <code>upper</code>; this method converts lower case characters to upper case characters:\n"
      ],
      "metadata": {
        "id": "ez4m7BgQG71M"
      }
    },
    {
      "cell_type": "code",
      "source": [
        "# Convert all the characters in string to upper case\n",
        "\n",
        "a = \"Thriller is the sixth studio album\"\n",
        "print(\"before upper:\", a)\n",
        "b = a.upper()\n",
        "print(\"After upper:\", b)"
      ],
      "metadata": {
        "id": "LSWt4XatG71M",
        "outputId": "b2197685-73d6-4127-98a2-2d480377e081",
        "colab": {
          "base_uri": "https://localhost:8080/"
        }
      },
      "execution_count": 24,
      "outputs": [
        {
          "output_type": "stream",
          "name": "stdout",
          "text": [
            "before upper: Thriller is the sixth studio album\n",
            "After upper: THRILLER IS THE SIXTH STUDIO ALBUM\n"
          ]
        }
      ]
    },
    {
      "cell_type": "markdown",
      "source": [
        "The method <code>replace</code> replaces a segment of the string, i.e. a substring  with a new string. We input the part of the string we would like to change. The second argument is what we would like to exchange the segment with, and the result is a new string with the segment changed: \n"
      ],
      "metadata": {
        "id": "h5_uH5jxG71M"
      }
    },
    {
      "cell_type": "code",
      "source": [
        "# Replace the old substring with the new target substring is the segment has been found in the string\n",
        "\n",
        "a = \"Michael Jackson is the best\"\n",
        "b = a.replace('Michael', 'Janet')\n",
        "b"
      ],
      "metadata": {
        "id": "lrNfXBfAG71M",
        "outputId": "96a30628-2f79-4c3d-9d2f-d7134ee0a3cd",
        "colab": {
          "base_uri": "https://localhost:8080/",
          "height": 36
        }
      },
      "execution_count": 25,
      "outputs": [
        {
          "output_type": "execute_result",
          "data": {
            "text/plain": [
              "'Janet Jackson is the best'"
            ],
            "application/vnd.google.colaboratory.intrinsic+json": {
              "type": "string"
            }
          },
          "metadata": {},
          "execution_count": 25
        }
      ]
    },
    {
      "cell_type": "markdown",
      "source": [
        "The method <code>find</code> finds a sub-string. The argument is the substring you would like to find, and the output is the first index of the sequence. We can find the sub-string <code>jack</code> or <code>el<code>.  \n"
      ],
      "metadata": {
        "id": "dmFaPl3QG71M"
      }
    },
    {
      "cell_type": "markdown",
      "source": [
        "<img src=\"https://cf-courses-data.s3.us.cloud-object-storage.appdomain.cloud/IBMDeveloperSkillsNetwork-PY0101EN-SkillsNetwork/labs/Module%201/images/StringsFind.png\" width=\"600\" align=\"center\">\n"
      ],
      "metadata": {
        "id": "585GxqWVG71M"
      }
    },
    {
      "cell_type": "code",
      "source": [
        "# Find the substring in the string. Only the index of the first elment of substring in string will be the output\n",
        "\n",
        "name = \"Michael Jackson\"\n",
        "name.find('el')"
      ],
      "metadata": {
        "id": "PSwdqvoRG71N",
        "outputId": "471ecf37-cd1e-43a7-e46e-e9a626478ac6",
        "colab": {
          "base_uri": "https://localhost:8080/"
        }
      },
      "execution_count": 26,
      "outputs": [
        {
          "output_type": "execute_result",
          "data": {
            "text/plain": [
              "5"
            ]
          },
          "metadata": {},
          "execution_count": 26
        }
      ]
    },
    {
      "cell_type": "code",
      "source": [
        "# Find the substring in the string.\n",
        "\n",
        "name.find('Jack')"
      ],
      "metadata": {
        "id": "46yYxUcJG71N",
        "outputId": "063dfcdd-3f2b-4ec8-9686-ec293c7fcf22",
        "colab": {
          "base_uri": "https://localhost:8080/"
        }
      },
      "execution_count": 27,
      "outputs": [
        {
          "output_type": "execute_result",
          "data": {
            "text/plain": [
              "8"
            ]
          },
          "metadata": {},
          "execution_count": 27
        }
      ]
    },
    {
      "cell_type": "markdown",
      "source": [
        "If the  sub-string is not in the string then the output is a negative one. For example, the string 'Jasdfasdasdf' is not a substring:\n"
      ],
      "metadata": {
        "id": "otmKNBjnG71N"
      }
    },
    {
      "cell_type": "code",
      "source": [
        "# If cannot find the substring in the string\n",
        "\n",
        "name.find('Jasdfasdasdf')"
      ],
      "metadata": {
        "id": "JfyY-2v5G71N",
        "outputId": "32e1ded7-0158-4e05-da4f-5836bf065c45",
        "colab": {
          "base_uri": "https://localhost:8080/"
        }
      },
      "execution_count": 28,
      "outputs": [
        {
          "output_type": "execute_result",
          "data": {
            "text/plain": [
              "-1"
            ]
          },
          "metadata": {},
          "execution_count": 28
        }
      ]
    },
    {
      "cell_type": "markdown",
      "source": [
        "<hr>\n"
      ],
      "metadata": {
        "id": "pyz0ZapBG71N"
      }
    },
    {
      "cell_type": "markdown",
      "source": [
        "<h2 id=\"quiz\">Quiz on Strings</h2>\n"
      ],
      "metadata": {
        "id": "mGkKOyj9G71N"
      }
    },
    {
      "cell_type": "markdown",
      "source": [
        "What is the value of the variable <code>a</code> after the following code is executed? \n"
      ],
      "metadata": {
        "id": "ZpAc2rlgG71O"
      }
    },
    {
      "cell_type": "code",
      "source": [
        "# Write your code below and press Shift+Enter to execute \n",
        "\n",
        "a = \"1\"\n",
        "a"
      ],
      "metadata": {
        "id": "CTpdwSqoG71O",
        "outputId": "7d4681b2-c766-4149-e2a5-7d3eb1aa3bf7",
        "colab": {
          "base_uri": "https://localhost:8080/",
          "height": 36
        }
      },
      "execution_count": 30,
      "outputs": [
        {
          "output_type": "execute_result",
          "data": {
            "text/plain": [
              "'1'"
            ],
            "application/vnd.google.colaboratory.intrinsic+json": {
              "type": "string"
            }
          },
          "metadata": {},
          "execution_count": 30
        }
      ]
    },
    {
      "cell_type": "markdown",
      "source": [
        "<details><summary>Click here for the solution</summary>\n",
        "\n",
        "```python\n",
        "\"1\"\n",
        "\n",
        "```\n",
        "\n",
        "</details>\n"
      ],
      "metadata": {
        "id": "XJPsgMndG71O"
      }
    },
    {
      "cell_type": "markdown",
      "source": [
        "What is the value of the variable <code>b</code> after the following code is executed?\n"
      ],
      "metadata": {
        "id": "4sdgkl7aG71O"
      }
    },
    {
      "cell_type": "code",
      "source": [
        "# Write your code below and press Shift+Enter to execute\n",
        "\n",
        "b = \"2\"\n",
        "b"
      ],
      "metadata": {
        "id": "wGHcvxYFG71O",
        "outputId": "c201c14d-80ac-466b-a318-7f7ae6203472",
        "colab": {
          "base_uri": "https://localhost:8080/",
          "height": 36
        }
      },
      "execution_count": 31,
      "outputs": [
        {
          "output_type": "execute_result",
          "data": {
            "text/plain": [
              "'2'"
            ],
            "application/vnd.google.colaboratory.intrinsic+json": {
              "type": "string"
            }
          },
          "metadata": {},
          "execution_count": 31
        }
      ]
    },
    {
      "cell_type": "markdown",
      "source": [
        "<details><summary>Click here for the solution</summary>\n",
        "\n",
        "```python\n",
        "\"2\"\n",
        "\n",
        "```\n",
        "\n",
        "</details>\n"
      ],
      "metadata": {
        "id": "iiY60NfDG71O"
      }
    },
    {
      "cell_type": "markdown",
      "source": [
        "What is the value of the variable <code>c</code> after the following code is executed?\n"
      ],
      "metadata": {
        "id": "Gd27vCyfG71O"
      }
    },
    {
      "cell_type": "code",
      "source": [
        "# Write your code below and press Shift+Enter to execute \n",
        "\n",
        "c = a + b\n",
        "c"
      ],
      "metadata": {
        "id": "_jy1EygBG71P",
        "outputId": "6f70f79c-867f-4804-e868-2af6f470966a",
        "colab": {
          "base_uri": "https://localhost:8080/",
          "height": 36
        }
      },
      "execution_count": 32,
      "outputs": [
        {
          "output_type": "execute_result",
          "data": {
            "text/plain": [
              "'12'"
            ],
            "application/vnd.google.colaboratory.intrinsic+json": {
              "type": "string"
            }
          },
          "metadata": {},
          "execution_count": 32
        }
      ]
    },
    {
      "cell_type": "markdown",
      "source": [
        "<details><summary>Click here for the solution</summary>\n",
        "\n",
        "```python\n",
        "\"12\"\n",
        "\n",
        "```\n",
        "\n",
        "</details>\n"
      ],
      "metadata": {
        "id": "KtKiqqpbG71P"
      }
    },
    {
      "cell_type": "markdown",
      "source": [
        "<hr>\n"
      ],
      "metadata": {
        "id": "Zu_wN2FkG71P"
      }
    },
    {
      "cell_type": "markdown",
      "source": [
        "Consider the variable <code>d</code> use slicing to print out the first three elements:\n"
      ],
      "metadata": {
        "id": "a_fI6HYPG71P"
      }
    },
    {
      "cell_type": "code",
      "source": [
        "# Write your code below and press Shift+Enter to execute\n",
        "\n",
        "d = \"ABCDEFG\"\n",
        "print(d[:3])"
      ],
      "metadata": {
        "id": "m-u3MhBqG71P",
        "outputId": "3ad26727-563d-48cc-b6bf-ac766ca7b57b",
        "colab": {
          "base_uri": "https://localhost:8080/"
        }
      },
      "execution_count": 36,
      "outputs": [
        {
          "output_type": "stream",
          "name": "stdout",
          "text": [
            "ABC\n"
          ]
        }
      ]
    },
    {
      "cell_type": "markdown",
      "source": [
        "<details><summary>Click here for the solution</summary>\n",
        "\n",
        "```python\n",
        "print(d[:3]) \n",
        "\n",
        "# or \n",
        "\n",
        "print(d[0:3])\n",
        "\n",
        "```\n",
        "\n",
        "</details>\n"
      ],
      "metadata": {
        "id": "igEifmYZG71Q"
      }
    },
    {
      "cell_type": "markdown",
      "source": [
        "<hr>\n"
      ],
      "metadata": {
        "id": "p6ciOQtfG71Q"
      }
    },
    {
      "cell_type": "markdown",
      "source": [
        "Use a stride value of 2 to print out every second character of the string <code>e</code>: \n"
      ],
      "metadata": {
        "id": "APJSxNrFG71Q"
      }
    },
    {
      "cell_type": "code",
      "source": [
        "# Write your code below and press Shift+Enter to execute\n",
        "\n",
        "e = 'clocrkr1e1c1t'\n",
        "print(e[::2])"
      ],
      "metadata": {
        "id": "al-z2kcnG71R",
        "outputId": "96fe2b0e-39a8-49b8-83b1-7c7126674341",
        "colab": {
          "base_uri": "https://localhost:8080/"
        }
      },
      "execution_count": 35,
      "outputs": [
        {
          "output_type": "stream",
          "name": "stdout",
          "text": [
            "correct\n"
          ]
        }
      ]
    },
    {
      "cell_type": "markdown",
      "source": [
        "<details><summary>Click here for the solution</summary>\n",
        "\n",
        "```python\n",
        "print(e[::2])\n",
        "\n",
        "```\n",
        "\n",
        "</details>\n"
      ],
      "metadata": {
        "id": "qXvDW9zpG71R"
      }
    },
    {
      "cell_type": "markdown",
      "source": [
        "<hr>\n"
      ],
      "metadata": {
        "id": "oxk3DUtlG71R"
      }
    },
    {
      "cell_type": "markdown",
      "source": [
        "Print out a backslash:\n"
      ],
      "metadata": {
        "id": "ar5Se2ByG71R"
      }
    },
    {
      "cell_type": "code",
      "source": [
        "# Write your code below and press Shift+Enter to execute\n",
        "print(r\"\\ \")\n"
      ],
      "metadata": {
        "id": "qdolDNgkG71R",
        "outputId": "9cdac5a5-6d27-4853-b583-ba6f183e1b3d",
        "colab": {
          "base_uri": "https://localhost:8080/"
        }
      },
      "execution_count": 39,
      "outputs": [
        {
          "output_type": "stream",
          "name": "stdout",
          "text": [
            "\\ \n"
          ]
        }
      ]
    },
    {
      "cell_type": "markdown",
      "source": [
        "<details><summary>Click here for the solution</summary>\n",
        "\n",
        "```python\n",
        "print(\"\\\\\\\\\")\n",
        "\n",
        "or\n",
        "\n",
        "print(r\"\\ \")\n",
        "\n",
        "```\n",
        "\n",
        "</details>\n"
      ],
      "metadata": {
        "id": "oTx_oAg8G71R"
      }
    },
    {
      "cell_type": "markdown",
      "source": [
        "<hr>\n"
      ],
      "metadata": {
        "id": "N5ltNi7GG71R"
      }
    },
    {
      "cell_type": "markdown",
      "source": [
        "Convert the variable <code>f</code> to uppercase:\n"
      ],
      "metadata": {
        "id": "TOSP53XLG71S"
      }
    },
    {
      "cell_type": "code",
      "source": [
        "# Write your code below and press Shift+Enter to execute\n",
        "\n",
        "f = \"You are wrong\"\n",
        "f.upper()"
      ],
      "metadata": {
        "id": "NZkls5WSG71S",
        "outputId": "9da0f8f4-23c3-4b08-c32c-c7cc68b50c2e",
        "colab": {
          "base_uri": "https://localhost:8080/",
          "height": 36
        }
      },
      "execution_count": 40,
      "outputs": [
        {
          "output_type": "execute_result",
          "data": {
            "text/plain": [
              "'YOU ARE WRONG'"
            ],
            "application/vnd.google.colaboratory.intrinsic+json": {
              "type": "string"
            }
          },
          "metadata": {},
          "execution_count": 40
        }
      ]
    },
    {
      "cell_type": "markdown",
      "source": [
        "<details><summary>Click here for the solution</summary>\n",
        "\n",
        "```python\n",
        "f.upper()\n",
        "\n",
        "```\n",
        "\n",
        "</details>\n"
      ],
      "metadata": {
        "id": "-QPJ-VoAG71S"
      }
    },
    {
      "cell_type": "markdown",
      "source": [
        "<hr>\n"
      ],
      "metadata": {
        "id": "adbWMVaSG71S"
      }
    },
    {
      "cell_type": "markdown",
      "source": [
        "Consider the variable <code>g</code>, and find the first index of the sub-string <code>snow</code>:\n"
      ],
      "metadata": {
        "id": "ZhCqqnsLG71S"
      }
    },
    {
      "cell_type": "code",
      "source": [
        "# Write your code below and press Shift+Enter to execute\n",
        "\n",
        "g = \"Mary had a little lamb Little lamb, little lamb Mary had a little lamb \\\n",
        "Its fleece was white as snow And everywhere that Mary went Mary went, Mary went \\\n",
        "Everywhere that Mary went The lamb was sure to go\"\n",
        "g.find(\"snow\")"
      ],
      "metadata": {
        "id": "Q2JKWwoVG71S",
        "outputId": "cf75b136-aad9-407c-88be-84ce5a91b6a5",
        "colab": {
          "base_uri": "https://localhost:8080/"
        }
      },
      "execution_count": 41,
      "outputs": [
        {
          "output_type": "execute_result",
          "data": {
            "text/plain": [
              "95"
            ]
          },
          "metadata": {},
          "execution_count": 41
        }
      ]
    },
    {
      "cell_type": "markdown",
      "source": [
        "<details><summary>Click here for the solution</summary>\n",
        "\n",
        "```python\n",
        "g.find(\"snow\")\n",
        "\n",
        "```\n",
        "\n",
        "</details>\n"
      ],
      "metadata": {
        "id": "9OnEY5EDG71S"
      }
    },
    {
      "cell_type": "markdown",
      "source": [
        "In the variable <code>g</code>, replace the sub-string <code>Mary</code> with <code>Bob</code>:\n"
      ],
      "metadata": {
        "id": "ftxH--osG71T"
      }
    },
    {
      "cell_type": "code",
      "source": [
        "# Write your code below and press Shift+Enter to execute\n",
        "g.replace(\"Mary\", \"Bob\")\n"
      ],
      "metadata": {
        "id": "Ab5_zHTcG71T",
        "outputId": "277beb6a-2a85-4566-9bd7-8038e3c916d3",
        "colab": {
          "base_uri": "https://localhost:8080/",
          "height": 54
        }
      },
      "execution_count": 42,
      "outputs": [
        {
          "output_type": "execute_result",
          "data": {
            "text/plain": [
              "'Bob had a little lamb Little lamb, little lamb Bob had a little lamb Its fleece was white as snow And everywhere that Bob went Bob went, Bob went Everywhere that Bob went The lamb was sure to go'"
            ],
            "application/vnd.google.colaboratory.intrinsic+json": {
              "type": "string"
            }
          },
          "metadata": {},
          "execution_count": 42
        }
      ]
    },
    {
      "cell_type": "markdown",
      "source": [
        "<details><summary>Click here for the solution</summary>\n",
        "\n",
        "```python\n",
        "g.replace(\"Mary\", \"Bob\")\n",
        "\n",
        "```\n",
        "\n",
        "</details>\n"
      ],
      "metadata": {
        "id": "Q5I2shsKG71T"
      }
    },
    {
      "cell_type": "markdown",
      "source": [
        "<hr>\n",
        "<h2>The last exercise!</h2>\n",
        "<p>Congratulations, you have completed your first lesson and hands-on lab in Python.\n",
        "<hr>\n"
      ],
      "metadata": {
        "id": "AEU1DY2sG71T"
      }
    },
    {
      "cell_type": "markdown",
      "source": [
        "## Author\n",
        "\n",
        "<a href=\"https://www.linkedin.com/in/joseph-s-50398b136/?utm_medium=Exinfluencer&utm_source=Exinfluencer&utm_content=000026UJ&utm_term=10006555&utm_id=NA-SkillsNetwork-Channel-SkillsNetworkCoursesIBMDeveloperSkillsNetworkPY0101ENSkillsNetwork1005-2022-01-01\" target=\"_blank\">Joseph Santarcangelo</a>\n",
        "\n",
        "\n",
        "\n",
        "## Change Log\n",
        "\n",
        "\n",
        "|  Date (YYYY-MM-DD) |  Version | Changed By  |  Change Description |\n",
        "|---|---|---|---|\n",
        "| 2022-01-10  | 2.1  | Malika  | Removed the readme for GitShare|\n",
        "| 2020-11-11  | 2.1  | Aije  | Updated variable names to lowercase  |\n",
        "| 2020-08-26  | 2.0  | Lavanya | Moved lab to course repo in GitLab |\n",
        "\n",
        "## <h3 align=\"center\"> © IBM Corporation 2020. All rights reserved. <h3/>\n"
      ],
      "metadata": {
        "id": "9UM45SSjG71T"
      }
    }
  ]
}