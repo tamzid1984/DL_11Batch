{
  "metadata": {
    "kernelspec": {
      "name": "python",
      "display_name": "Pyolite",
      "language": "python"
    },
    "language_info": {
      "codemirror_mode": {
        "name": "python",
        "version": 3
      },
      "file_extension": ".py",
      "mimetype": "text/x-python",
      "name": "python",
      "nbconvert_exporter": "python",
      "pygments_lexer": "ipython3",
      "version": "3.8"
    },
    "colab": {
      "provenance": [],
      "include_colab_link": true
    }
  },
  "nbformat_minor": 0,
  "nbformat": 4,
  "cells": [
    {
      "cell_type": "markdown",
      "metadata": {
        "id": "view-in-github",
        "colab_type": "text"
      },
      "source": [
        "<a href=\"https://colab.research.google.com/github/tamzid1984/DL_11Batch/blob/main/IBMDeveloperSkillsNetwork_PY0101EN_SkillsNetwork_labs_Module_4_PY0101EN_4_1_ReadFile.ipynb\" target=\"_parent\"><img src=\"https://colab.research.google.com/assets/colab-badge.svg\" alt=\"Open In Colab\"/></a>"
      ]
    },
    {
      "cell_type": "markdown",
      "source": [
        "<p style=\"text-align:center\">\n",
        "    <a href=\"https://skills.network/?utm_medium=Exinfluencer&utm_source=Exinfluencer&utm_content=000026UJ&utm_term=10006555&utm_id=NA-SkillsNetwork-Channel-SkillsNetworkCoursesIBMDeveloperSkillsNetworkPY0101ENSkillsNetwork1005-2022-01-01\" target=\"_blank\">\n",
        "    <img src=\"https://cf-courses-data.s3.us.cloud-object-storage.appdomain.cloud/assets/logos/SN_web_lightmode.png\" width=\"200\" alt=\"Skills Network Logo\"  />\n",
        "    </a>\n",
        "</p>\n",
        "\n",
        "# Reading Files Python\n",
        "\n",
        "Estimated time needed: **40** minutes\n",
        "\n",
        "## Objectives\n",
        "\n",
        "After completing this lab you will be able to:\n",
        "\n",
        "-   Read text files using Python libraries\n"
      ],
      "metadata": {
        "id": "lVjjqyT9nxU6"
      }
    },
    {
      "cell_type": "markdown",
      "source": [
        "<h2>Table of Contents</h2>\n",
        "<div class=\"alert alert-block alert-info\" style=\"margin-top: 20px\">\n",
        "    <ul>\n",
        "        <li><a href=\"download\">Download Data</a></li>\n",
        "        <li><a href=\"read\">Reading Text Files</a></li>\n",
        "        <li><a href=\"better\">A Better Way to Open a File</a></li>\n",
        "    </ul>\n",
        " \n",
        "</div>\n",
        "\n",
        "<hr>\n"
      ],
      "metadata": {
        "id": "9xUc-SPOnxVD"
      }
    },
    {
      "cell_type": "markdown",
      "source": [
        "<h2 id=\"download\">Download Data</h2>\n"
      ],
      "metadata": {
        "id": "j0prhxFZnxVF"
      }
    },
    {
      "cell_type": "code",
      "source": [
        "import urllib.request\n",
        "url = 'https://cf-courses-data.s3.us.cloud-object-storage.appdomain.cloud/IBMDeveloperSkillsNetwork-PY0101EN-SkillsNetwork/labs/Module%204/data/example1.txt'\n",
        "filename = 'Example1.txt'\n",
        "urllib.request.urlretrieve(url, filename)"
      ],
      "metadata": {
        "id": "cW7JuE9TnxVG",
        "outputId": "9d421ada-cfe3-4b14-ba40-ad58b76e2319",
        "colab": {
          "base_uri": "https://localhost:8080/"
        }
      },
      "execution_count": 1,
      "outputs": [
        {
          "output_type": "execute_result",
          "data": {
            "text/plain": [
              "('Example1.txt', <http.client.HTTPMessage at 0x7f60f7ba7c40>)"
            ]
          },
          "metadata": {},
          "execution_count": 1
        }
      ]
    },
    {
      "cell_type": "code",
      "source": [
        "# Download Example file\n",
        "\n",
        "\n",
        "!wget -O /resources/data/Example1.txt https://cf-courses-data.s3.us.cloud-object-storage.appdomain.cloud/IBMDeveloperSkillsNetwork-PY0101EN-SkillsNetwork/labs/Module%204/data/example1.txt"
      ],
      "metadata": {
        "id": "u2_vtVp3nxVJ",
        "outputId": "beac25d7-28f2-4b5d-9750-cddeff711973",
        "colab": {
          "base_uri": "https://localhost:8080/"
        }
      },
      "execution_count": 2,
      "outputs": [
        {
          "output_type": "stream",
          "name": "stdout",
          "text": [
            "/resources/data/Example1.txt: No such file or directory\n"
          ]
        }
      ]
    },
    {
      "cell_type": "markdown",
      "source": [
        "<hr>\n"
      ],
      "metadata": {
        "id": "1BLkr9LnnxVK"
      }
    },
    {
      "cell_type": "markdown",
      "source": [
        "<h2 id=\"read\">Reading Text Files</h2>\n"
      ],
      "metadata": {
        "id": "gxYwsvRZnxVL"
      }
    },
    {
      "cell_type": "markdown",
      "source": [
        "One way to read or write a file in Python is to use the built-in <code>open</code> function. The <code>open</code> function provides a **File object** that contains the methods and attributes you need in order to read, save, and manipulate the file. In this notebook, we will only cover **.txt** files. The first parameter you need is the file path and the file name. An example is shown as follow:\n"
      ],
      "metadata": {
        "id": "V-RBmH0TnxVM"
      }
    },
    {
      "cell_type": "markdown",
      "source": [
        "<img src=\"https://cf-courses-data.s3.us.cloud-object-storage.appdomain.cloud/IBMDeveloperSkillsNetwork-PY0101EN-SkillsNetwork/labs/Module%204/images/ReadOpen.png\" width=\"500\">\n"
      ],
      "metadata": {
        "id": "-AaaKQzTnxVN"
      }
    },
    {
      "cell_type": "markdown",
      "source": [
        " The mode argument is optional and the default value is **r**. In this notebook we only cover two modes: \n",
        "\n",
        "<ul>\n",
        "    <li>**r**: Read mode for reading files </li>\n",
        "    <li>**w**: Write mode for writing files</li>\n",
        "</ul>\n"
      ],
      "metadata": {
        "id": "MJ0RsDzsnxVO"
      }
    },
    {
      "cell_type": "markdown",
      "source": [
        "For the next example, we will use the text file **Example1.txt**. The file is shown as follows:\n"
      ],
      "metadata": {
        "id": "XYPsApiVnxVP"
      }
    },
    {
      "cell_type": "markdown",
      "source": [
        "<img src=\"https://cf-courses-data.s3.us.cloud-object-storage.appdomain.cloud/IBMDeveloperSkillsNetwork-PY0101EN-SkillsNetwork/labs/Module%204/images/ReadFile.png\" width=\"100\">\n"
      ],
      "metadata": {
        "id": "15MRiJDNnxVQ"
      }
    },
    {
      "cell_type": "markdown",
      "source": [
        " We read the file: \n"
      ],
      "metadata": {
        "id": "ot2VESdjnxVR"
      }
    },
    {
      "cell_type": "code",
      "source": [
        "# Read the Example1.txt\n",
        "\n",
        "example1 = \"Example1.txt\"\n",
        "file1 = open(example1, \"r\")"
      ],
      "metadata": {
        "id": "Zru-vJ5mnxVS"
      },
      "execution_count": 3,
      "outputs": []
    },
    {
      "cell_type": "markdown",
      "source": [
        " We can view the attributes of the file.\n"
      ],
      "metadata": {
        "id": "OfrceitZnxVS"
      }
    },
    {
      "cell_type": "markdown",
      "source": [
        "The name of the file:\n"
      ],
      "metadata": {
        "id": "1KVOLrfRnxVT"
      }
    },
    {
      "cell_type": "code",
      "source": [
        "# Print the path of file\n",
        "\n",
        "file1.name"
      ],
      "metadata": {
        "id": "MSyO4eJVnxVU",
        "outputId": "243a4dbf-f499-4369-c376-9171651fc0ec",
        "colab": {
          "base_uri": "https://localhost:8080/",
          "height": 36
        }
      },
      "execution_count": 4,
      "outputs": [
        {
          "output_type": "execute_result",
          "data": {
            "text/plain": [
              "'Example1.txt'"
            ],
            "application/vnd.google.colaboratory.intrinsic+json": {
              "type": "string"
            }
          },
          "metadata": {},
          "execution_count": 4
        }
      ]
    },
    {
      "cell_type": "markdown",
      "source": [
        " The mode the file object is in:\n"
      ],
      "metadata": {
        "id": "802zG_LanxVU"
      }
    },
    {
      "cell_type": "code",
      "source": [
        "# Print the mode of file, either 'r' or 'w'\n",
        "\n",
        "file1.mode"
      ],
      "metadata": {
        "id": "Zc5EAHBSnxVV",
        "outputId": "0ff5abbb-336b-4532-d4c9-22144c0e22b8",
        "colab": {
          "base_uri": "https://localhost:8080/",
          "height": 36
        }
      },
      "execution_count": 5,
      "outputs": [
        {
          "output_type": "execute_result",
          "data": {
            "text/plain": [
              "'r'"
            ],
            "application/vnd.google.colaboratory.intrinsic+json": {
              "type": "string"
            }
          },
          "metadata": {},
          "execution_count": 5
        }
      ]
    },
    {
      "cell_type": "markdown",
      "source": [
        "We can read the file and assign it to a variable :\n"
      ],
      "metadata": {
        "id": "_5Jdx-dOnxVV"
      }
    },
    {
      "cell_type": "code",
      "source": [
        "# Read the file\n",
        "\n",
        "FileContent = file1.read()\n",
        "FileContent"
      ],
      "metadata": {
        "id": "Wcv7jrRenxVW",
        "outputId": "bdcc9185-597e-4637-abe5-0559a178bd74",
        "colab": {
          "base_uri": "https://localhost:8080/",
          "height": 36
        }
      },
      "execution_count": 6,
      "outputs": [
        {
          "output_type": "execute_result",
          "data": {
            "text/plain": [
              "'This is line 1 \\nThis is line 2\\nThis is line 3'"
            ],
            "application/vnd.google.colaboratory.intrinsic+json": {
              "type": "string"
            }
          },
          "metadata": {},
          "execution_count": 6
        }
      ]
    },
    {
      "cell_type": "markdown",
      "source": [
        "The **/n** means that there is a new line. \n"
      ],
      "metadata": {
        "id": "aqJ0FIjrnxVW"
      }
    },
    {
      "cell_type": "markdown",
      "source": [
        "We can print the file: \n"
      ],
      "metadata": {
        "id": "T_eJv-ojnxVX"
      }
    },
    {
      "cell_type": "code",
      "source": [
        "# Print the file with '\\n' as a new line\n",
        "\n",
        "print(FileContent)"
      ],
      "metadata": {
        "id": "y8SzWJZqnxVX",
        "outputId": "f1cc7eea-64a9-433a-f51d-38af496b934e",
        "colab": {
          "base_uri": "https://localhost:8080/"
        }
      },
      "execution_count": 7,
      "outputs": [
        {
          "output_type": "stream",
          "name": "stdout",
          "text": [
            "This is line 1 \n",
            "This is line 2\n",
            "This is line 3\n"
          ]
        }
      ]
    },
    {
      "cell_type": "markdown",
      "source": [
        "The file is of type string:\n"
      ],
      "metadata": {
        "id": "dUs3h0-MnxVY"
      }
    },
    {
      "cell_type": "code",
      "source": [
        "# Type of file content\n",
        "\n",
        "type(FileContent)"
      ],
      "metadata": {
        "id": "7p97brxbnxVY",
        "outputId": "eb33bb51-d26c-4028-80d7-e3ff3398cfe2",
        "colab": {
          "base_uri": "https://localhost:8080/"
        }
      },
      "execution_count": 8,
      "outputs": [
        {
          "output_type": "execute_result",
          "data": {
            "text/plain": [
              "str"
            ]
          },
          "metadata": {},
          "execution_count": 8
        }
      ]
    },
    {
      "cell_type": "markdown",
      "source": [
        "It is very important that the file is closed in the end. This frees up resources and ensures consistency across different python versions.\n"
      ],
      "metadata": {
        "id": "UhKB5mSlnxVZ"
      }
    },
    {
      "cell_type": "code",
      "source": [
        "# Close file after finish\n",
        "\n",
        "file1.close()"
      ],
      "metadata": {
        "id": "liuM4QGvnxVZ"
      },
      "execution_count": 9,
      "outputs": []
    },
    {
      "cell_type": "markdown",
      "source": [
        "<hr>\n"
      ],
      "metadata": {
        "id": "kl-NMWLLnxVa"
      }
    },
    {
      "cell_type": "markdown",
      "source": [
        "<h2 id=\"better\">A Better Way to Open a File</h2>\n"
      ],
      "metadata": {
        "id": "V2-wdZronxVa"
      }
    },
    {
      "cell_type": "markdown",
      "source": [
        "Using the <code>with</code> statement is better practice, it automatically closes the file even if the code encounters an exception. The code will run everything in the indent block then close the file object. \n"
      ],
      "metadata": {
        "id": "9sPzkVamnxVb"
      }
    },
    {
      "cell_type": "code",
      "source": [
        "# Open file using with\n",
        "\n",
        "with open(example1, \"r\") as file1:\n",
        "    FileContent = file1.read()\n",
        "    print(FileContent)"
      ],
      "metadata": {
        "id": "_cvYuo5anxVb",
        "outputId": "e2e52c46-0309-43c1-c278-a1b9817f4732",
        "colab": {
          "base_uri": "https://localhost:8080/"
        }
      },
      "execution_count": 10,
      "outputs": [
        {
          "output_type": "stream",
          "name": "stdout",
          "text": [
            "This is line 1 \n",
            "This is line 2\n",
            "This is line 3\n"
          ]
        }
      ]
    },
    {
      "cell_type": "markdown",
      "source": [
        "The file object is closed, you can verify it by running the following cell:  \n"
      ],
      "metadata": {
        "id": "qCKN2bYtnxVb"
      }
    },
    {
      "cell_type": "code",
      "source": [
        "# Verify if the file is closed\n",
        "\n",
        "file1.closed"
      ],
      "metadata": {
        "id": "Kn-2D2uWnxVc",
        "outputId": "059b5733-4694-4199-a2c1-20956a064cd7",
        "colab": {
          "base_uri": "https://localhost:8080/"
        }
      },
      "execution_count": 11,
      "outputs": [
        {
          "output_type": "execute_result",
          "data": {
            "text/plain": [
              "True"
            ]
          },
          "metadata": {},
          "execution_count": 11
        }
      ]
    },
    {
      "cell_type": "markdown",
      "source": [
        " We can see the info in the file:\n"
      ],
      "metadata": {
        "id": "HYcWoFaunxVc"
      }
    },
    {
      "cell_type": "code",
      "source": [
        "# See the content of file\n",
        "\n",
        "print(FileContent)"
      ],
      "metadata": {
        "id": "eiL_fv_5nxVd",
        "outputId": "3663c9d4-dfcc-43be-b5b2-fa20cb636cd8",
        "colab": {
          "base_uri": "https://localhost:8080/"
        }
      },
      "execution_count": 12,
      "outputs": [
        {
          "output_type": "stream",
          "name": "stdout",
          "text": [
            "This is line 1 \n",
            "This is line 2\n",
            "This is line 3\n"
          ]
        }
      ]
    },
    {
      "cell_type": "markdown",
      "source": [
        "The syntax is a little confusing as the file object is after the <code>as</code> statement. We also don’t explicitly close the file. Therefore we summarize the steps in a figure:\n"
      ],
      "metadata": {
        "id": "Z9mMKUFOnxVd"
      }
    },
    {
      "cell_type": "markdown",
      "source": [
        "<img src=\"https://cf-courses-data.s3.us.cloud-object-storage.appdomain.cloud/IBMDeveloperSkillsNetwork-PY0101EN-SkillsNetwork/labs/Module%204/images/ReadWith.png\" width=\"500\">\n"
      ],
      "metadata": {
        "id": "DsIq5sbfnxVe"
      }
    },
    {
      "cell_type": "markdown",
      "source": [
        "We don’t have to read the entire file, for example, we can read the first 4 characters by entering three as a parameter to the method **.read()**:\n"
      ],
      "metadata": {
        "id": "tKcrvGKHnxVe"
      }
    },
    {
      "cell_type": "code",
      "source": [
        "# Read first four characters\n",
        "\n",
        "with open(example1, \"r\") as file1:\n",
        "    print(file1.read(4))"
      ],
      "metadata": {
        "id": "8haI93EPnxVf",
        "outputId": "a8ac015d-61c1-4b3e-bb00-20e3e58bf9f7",
        "colab": {
          "base_uri": "https://localhost:8080/"
        }
      },
      "execution_count": 13,
      "outputs": [
        {
          "output_type": "stream",
          "name": "stdout",
          "text": [
            "This\n"
          ]
        }
      ]
    },
    {
      "cell_type": "markdown",
      "source": [
        "Once the method <code>.read(4)</code> is called the first 4 characters are called. If we call the method again, the next 4 characters are called. The output for the following cell will demonstrate the process for different inputs to the method <code>read()</code>:\n"
      ],
      "metadata": {
        "id": "-FvcCPE4nxVg"
      }
    },
    {
      "cell_type": "code",
      "source": [
        "# Read certain amount of characters\n",
        "\n",
        "with open(example1, \"r\") as file1:\n",
        "    print(file1.read(4))\n",
        "    print(file1.read(4))\n",
        "    print(file1.read(7))\n",
        "    print(file1.read(15))"
      ],
      "metadata": {
        "id": "orqqVg2_nxVg",
        "outputId": "44d60eb7-c4b9-4118-feae-93fc55d4b541",
        "colab": {
          "base_uri": "https://localhost:8080/"
        }
      },
      "execution_count": 14,
      "outputs": [
        {
          "output_type": "stream",
          "name": "stdout",
          "text": [
            "This\n",
            " is \n",
            "line 1 \n",
            "\n",
            "This is line 2\n"
          ]
        }
      ]
    },
    {
      "cell_type": "markdown",
      "source": [
        "The process is illustrated in the below figure, and each color represents the part of the file read after the method <code>read()</code> is called:\n"
      ],
      "metadata": {
        "id": "Guy5STyjnxVg"
      }
    },
    {
      "cell_type": "markdown",
      "source": [
        "<img src=\"https://cf-courses-data.s3.us.cloud-object-storage.appdomain.cloud/IBMDeveloperSkillsNetwork-PY0101EN-SkillsNetwork/labs/Module%204/images/read.png\" width=\"500\">\n"
      ],
      "metadata": {
        "id": "fOgO6oOFnxVh"
      }
    },
    {
      "cell_type": "markdown",
      "source": [
        " Here is an example using the same file, but instead we read 16, 5, and then 9 characters at a time: \n"
      ],
      "metadata": {
        "id": "-NYynUswnxVh"
      }
    },
    {
      "cell_type": "code",
      "source": [
        "# Read certain amount of characters\n",
        "\n",
        "with open(example1, \"r\") as file1:\n",
        "    print(file1.read(16))\n",
        "    print(file1.read(5))\n",
        "    print(file1.read(9))"
      ],
      "metadata": {
        "id": "f5CDwmYqnxVi",
        "outputId": "a3d24388-6526-4edf-a5fd-5e3d3a918caa",
        "colab": {
          "base_uri": "https://localhost:8080/"
        }
      },
      "execution_count": 15,
      "outputs": [
        {
          "output_type": "stream",
          "name": "stdout",
          "text": [
            "This is line 1 \n",
            "\n",
            "This \n",
            "is line 2\n"
          ]
        }
      ]
    },
    {
      "cell_type": "markdown",
      "source": [
        "We can also read one line of the file at a time using the method <code>readline()</code>: \n"
      ],
      "metadata": {
        "id": "jQVV36dHnxVi"
      }
    },
    {
      "cell_type": "code",
      "source": [
        "# Read one line\n",
        "\n",
        "with open(example1, \"r\") as file1:\n",
        "    print(\"first line: \" + file1.readline())"
      ],
      "metadata": {
        "id": "kjAvF7f4nxVj",
        "outputId": "4ec350d5-04df-4013-ea1c-e4a637c49d9f",
        "colab": {
          "base_uri": "https://localhost:8080/"
        }
      },
      "execution_count": 16,
      "outputs": [
        {
          "output_type": "stream",
          "name": "stdout",
          "text": [
            "first line: This is line 1 \n",
            "\n"
          ]
        }
      ]
    },
    {
      "cell_type": "markdown",
      "source": [
        "We can also pass an argument to <code> readline() </code> to specify the number of charecters we want to read. However, unlike <code> read()</code>, <code> readline()</code> can only read one line at most.\n"
      ],
      "metadata": {
        "id": "6sYZs3usnxVj"
      }
    },
    {
      "cell_type": "code",
      "source": [
        "with open(example1, \"r\") as file1:\n",
        "    print(file1.readline(20)) # does not read past the end of line\n",
        "    print(file1.read(20)) # Returns the next 20 chars\n"
      ],
      "metadata": {
        "id": "imMcQrmbnxVk",
        "outputId": "577c2d77-4108-4fae-f546-6918d1961830",
        "colab": {
          "base_uri": "https://localhost:8080/"
        }
      },
      "execution_count": 17,
      "outputs": [
        {
          "output_type": "stream",
          "name": "stdout",
          "text": [
            "This is line 1 \n",
            "\n",
            "This is line 2\n",
            "This \n"
          ]
        }
      ]
    },
    {
      "cell_type": "markdown",
      "source": [
        " We can use a loop to iterate through each line: \n"
      ],
      "metadata": {
        "id": "ffoM_GW_nxVk"
      }
    },
    {
      "cell_type": "code",
      "source": [
        "# Iterate through the lines\n",
        "\n",
        "with open(example1,\"r\") as file1:\n",
        "        i = 0;\n",
        "        for line in file1:\n",
        "            print(\"Iteration\", str(i), \": \", line)\n",
        "            i = i + 1"
      ],
      "metadata": {
        "id": "bIZX6I7anxVk",
        "outputId": "6ba8afb8-30e0-4fd5-d157-2176833444f7",
        "colab": {
          "base_uri": "https://localhost:8080/"
        }
      },
      "execution_count": 18,
      "outputs": [
        {
          "output_type": "stream",
          "name": "stdout",
          "text": [
            "Iteration 0 :  This is line 1 \n",
            "\n",
            "Iteration 1 :  This is line 2\n",
            "\n",
            "Iteration 2 :  This is line 3\n"
          ]
        }
      ]
    },
    {
      "cell_type": "markdown",
      "source": [
        "We can use the method <code>readlines()</code> to save the text file to a list: \n"
      ],
      "metadata": {
        "id": "Bjfy4cCcnxVl"
      }
    },
    {
      "cell_type": "code",
      "source": [
        "# Read all lines and save as a list\n",
        "\n",
        "with open(example1, \"r\") as file1:\n",
        "    FileasList = file1.readlines()"
      ],
      "metadata": {
        "id": "zXSNMSHznxVl"
      },
      "execution_count": 19,
      "outputs": []
    },
    {
      "cell_type": "markdown",
      "source": [
        " Each element of the list corresponds to a line of text:\n"
      ],
      "metadata": {
        "id": "OmVyXI14nxVl"
      }
    },
    {
      "cell_type": "code",
      "source": [
        "# Print the first line\n",
        "\n",
        "FileasList[0]"
      ],
      "metadata": {
        "id": "GCu6x3GFnxVm",
        "outputId": "17b0401f-ce37-43ce-c1c3-c0d882289d2f",
        "colab": {
          "base_uri": "https://localhost:8080/",
          "height": 36
        }
      },
      "execution_count": 20,
      "outputs": [
        {
          "output_type": "execute_result",
          "data": {
            "text/plain": [
              "'This is line 1 \\n'"
            ],
            "application/vnd.google.colaboratory.intrinsic+json": {
              "type": "string"
            }
          },
          "metadata": {},
          "execution_count": 20
        }
      ]
    },
    {
      "cell_type": "markdown",
      "source": [
        "# Print the second line\n",
        "\n",
        "FileasList[1]\n"
      ],
      "metadata": {
        "id": "-VHNosCNnxVm"
      }
    },
    {
      "cell_type": "code",
      "source": [
        "# Print the third line\n",
        "\n",
        "FileasList[2]"
      ],
      "metadata": {
        "id": "GK7OcD69nxVn",
        "outputId": "78339635-ae83-47ee-ea92-a57cfe29f6bc",
        "colab": {
          "base_uri": "https://localhost:8080/",
          "height": 36
        }
      },
      "execution_count": 21,
      "outputs": [
        {
          "output_type": "execute_result",
          "data": {
            "text/plain": [
              "'This is line 3'"
            ],
            "application/vnd.google.colaboratory.intrinsic+json": {
              "type": "string"
            }
          },
          "metadata": {},
          "execution_count": 21
        }
      ]
    },
    {
      "cell_type": "markdown",
      "source": [
        "<hr>\n",
        "<h2>The last exercise!</h2>\n",
        "<p>Congratulations, you have completed your first lesson and hands-on lab in Python.\n",
        "<hr>\n"
      ],
      "metadata": {
        "id": "Bx5ZUfVGnxVn"
      }
    },
    {
      "cell_type": "markdown",
      "source": [
        "## Author\n",
        "\n",
        "<a href=\"https://www.linkedin.com/in/joseph-s-50398b136/?utm_medium=Exinfluencer&utm_source=Exinfluencer&utm_content=000026UJ&utm_term=10006555&utm_id=NA-SkillsNetwork-Channel-SkillsNetworkCoursesIBMDeveloperSkillsNetworkPY0101ENSkillsNetwork1005-2022-01-01\" target=\"_blank\">Joseph Santarcangelo</a>\n",
        "\n",
        "## Other contributors\n",
        "\n",
        "<a href=\"www.linkedin.com/in/jiahui-mavis-zhou-a4537814a\">Mavis Zhou</a>\n",
        "\n",
        "## Change Log\n",
        "\n",
        "| Date (YYYY-MM-DD) | Version | Changed By    | Change Description                                        |\n",
        "| ----------------- | ------- | ------------- | --------------------------------------------------------- |\n",
        "| 2022-01-10        | 2.1     | Malika        | Removed the readme for GitShare|\n",
        "| 2020-09-30        | 1.3     | Malika        | Deleted exericse \"Weather Data\"                           |\n",
        "| 2020-09-30        | 1.2     | Malika Singla | Weather Data dataset link added                           |\n",
        "| 2020-09-30        | 1.1     | Arjun Swani   | Added exericse \"Weather Data\"                             |\n",
        "| 2020-09-30        | 1.0     | Arjun Swani   | Added blurbs about closing files and read() vs readline() |\n",
        "| 2020-08-26        | 0.2     | Lavanya       | Moved lab to course repo in GitLab                        |\n",
        "|                   |         |               |                                                           |\n",
        "|                   |         |               |                                                           |\n",
        "\n",
        "<hr/>\n",
        "\n",
        "## <h3 align=\"center\"> © IBM Corporation 2020. All rights reserved. <h3/>\n"
      ],
      "metadata": {
        "id": "yav-kOQRnxVn"
      }
    }
  ]
}